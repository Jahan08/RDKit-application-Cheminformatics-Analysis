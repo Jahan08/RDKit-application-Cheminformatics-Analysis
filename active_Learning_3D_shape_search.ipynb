{
  "cells": [
    {
      "cell_type": "markdown",
      "metadata": {
        "id": "view-in-github",
        "colab_type": "text"
      },
      "source": [
        "<a href=\"https://colab.research.google.com/github/Jahan08/RDKit-application-Cheminformatics-Analysis/blob/main/active_Learning_3D_shape_search.ipynb\" target=\"_parent\"><img src=\"https://colab.research.google.com/assets/colab-badge.svg\" alt=\"Open In Colab\"/></a>"
      ]
    },
    {
      "cell_type": "markdown",
      "source": [
        "# Potential Use Cases of shape and ESP similarity\n",
        "\n",
        "1. Structure-activity realtionship\n",
        "2. Proetin-ligand scoring\n",
        "     - Compare known (co-crytalized ligand) to database of potential ligands.\n",
        "     - propose new ligands based on generative models\n",
        "     - score enzymatic affinity towards new substrates\n",
        "3. Superimposing structures (by finding maximum similarity)"
      ],
      "metadata": {
        "id": "asUWI5vYKe0i"
      },
      "id": "asUWI5vYKe0i"
    },
    {
      "cell_type": "markdown",
      "id": "b30fae8e",
      "metadata": {
        "pycharm": {
          "name": "#%% md\n"
        },
        "id": "b30fae8e"
      },
      "source": [
        "### Using Active Learning in a 3D Similarity Search\n",
        "In this tutorial we'll consider a full example where we use active learning to find molecules with shape and pharmcophoric features similar to a query molecule. The code here is very similar to the code in active_regression.ipynb.  The only substantial change is in the oracle which scores the molecules. Some of the code and data in this notebook was borrowed from other open source projects.\n",
        "- The query and database molecules were taken from the [LitPCBA](https://pubs.acs.org/doi/10.1021/acs.jcim.0c00155) set.\n",
        "\n",
        " a novel data set (LIT-PCBA) speciﬁcally designed for virtual screening and machine learning. LIT-PCBA relies on149 dose−response PubChem bioassays that were additionally processed to remove false positives and assay artifacts and keep activeand inactive compounds within similar molecular property ranges\n",
        "\n",
        "\n",
        "- The 3D overlay code came from [ESPSim](https://github.com/hesther/espsim)\n",
        "\n",
        "By performing comparisonsof 3D fragments, we can simulate 3D properties while overcoming the notoriously diﬃcult step of accurately describing bioactiveconformations\n",
        "\n",
        "\n",
        "- Some code was also borrowed from [Lig3DLens](https://github.com/healx/lig3dlens)  \n",
        "\n",
        "Lig3DLens performs the following tasks:\n",
        "\n",
        "Prepares a commercial compound library to be used for a VS campaign. This task involves: i) compound standardisation and ii) filtering out compounds outside a predefined range of physicochemical properties.\n",
        "Generates conformers for all of the compounds in the commercial library and calculates their 3D similarity (shape & electrostatics) to a reference compound.\n",
        "Finally, it can cluster the highest scoring hits and select a set number of representative compounds that can be ordered and tested.\n",
        "\n",
        "Many thanks to the authors of these packages for their commitment to open science."
      ]
    },
    {
      "cell_type": "markdown",
      "id": "14785c51",
      "metadata": {
        "pycharm": {
          "name": "#%% md\n"
        },
        "id": "14785c51"
      },
      "source": [
        "Install the necessary Python packages"
      ]
    },
    {
      "cell_type": "code",
      "execution_count": 1,
      "id": "e7c3d153",
      "metadata": {
        "pycharm": {
          "name": "#%%\n"
        },
        "colab": {
          "base_uri": "https://localhost:8080/"
        },
        "id": "e7c3d153",
        "outputId": "b0d84408-e9ae-4622-8a11-93a2caabd626"
      },
      "outputs": [
        {
          "output_type": "stream",
          "name": "stdout",
          "text": [
            "Collecting modAL-python>=0.4.1\n",
            "  Downloading modAL_python-0.4.2.1-py3-none-any.whl.metadata (444 bytes)\n",
            "Requirement already satisfied: numpy in /usr/local/lib/python3.10/dist-packages (from modAL-python>=0.4.1) (1.26.4)\n",
            "Requirement already satisfied: scikit-learn>=0.18 in /usr/local/lib/python3.10/dist-packages (from modAL-python>=0.4.1) (1.5.2)\n",
            "Requirement already satisfied: scipy>=0.18 in /usr/local/lib/python3.10/dist-packages (from modAL-python>=0.4.1) (1.13.1)\n",
            "Requirement already satisfied: pandas>=1.1.0 in /usr/local/lib/python3.10/dist-packages (from modAL-python>=0.4.1) (2.2.2)\n",
            "Collecting skorch==0.9.0 (from modAL-python>=0.4.1)\n",
            "  Downloading skorch-0.9.0-py3-none-any.whl.metadata (8.3 kB)\n",
            "Requirement already satisfied: tabulate>=0.7.7 in /usr/local/lib/python3.10/dist-packages (from skorch==0.9.0->modAL-python>=0.4.1) (0.9.0)\n",
            "Requirement already satisfied: tqdm>=4.14.0 in /usr/local/lib/python3.10/dist-packages (from skorch==0.9.0->modAL-python>=0.4.1) (4.66.5)\n",
            "Requirement already satisfied: python-dateutil>=2.8.2 in /usr/local/lib/python3.10/dist-packages (from pandas>=1.1.0->modAL-python>=0.4.1) (2.8.2)\n",
            "Requirement already satisfied: pytz>=2020.1 in /usr/local/lib/python3.10/dist-packages (from pandas>=1.1.0->modAL-python>=0.4.1) (2024.2)\n",
            "Requirement already satisfied: tzdata>=2022.7 in /usr/local/lib/python3.10/dist-packages (from pandas>=1.1.0->modAL-python>=0.4.1) (2024.2)\n",
            "Requirement already satisfied: joblib>=1.2.0 in /usr/local/lib/python3.10/dist-packages (from scikit-learn>=0.18->modAL-python>=0.4.1) (1.4.2)\n",
            "Requirement already satisfied: threadpoolctl>=3.1.0 in /usr/local/lib/python3.10/dist-packages (from scikit-learn>=0.18->modAL-python>=0.4.1) (3.5.0)\n",
            "Requirement already satisfied: six>=1.5 in /usr/local/lib/python3.10/dist-packages (from python-dateutil>=2.8.2->pandas>=1.1.0->modAL-python>=0.4.1) (1.16.0)\n",
            "Downloading modAL_python-0.4.2.1-py3-none-any.whl (32 kB)\n",
            "Downloading skorch-0.9.0-py3-none-any.whl (125 kB)\n",
            "\u001b[2K   \u001b[90m━━━━━━━━━━━━━━━━━━━━━━━━━━━━━━━━━━━━━━━━\u001b[0m \u001b[32m125.8/125.8 kB\u001b[0m \u001b[31m3.7 MB/s\u001b[0m eta \u001b[36m0:00:00\u001b[0m\n",
            "\u001b[?25hInstalling collected packages: skorch, modAL-python\n",
            "Successfully installed modAL-python-0.4.2.1 skorch-0.9.0\n",
            "Collecting useful-rdkit-utils\n",
            "  Downloading useful_rdkit_utils-0.3.12-py3-none-any.whl.metadata (2.0 kB)\n",
            "Requirement already satisfied: numpy in /usr/local/lib/python3.10/dist-packages (from useful-rdkit-utils) (1.26.4)\n",
            "Requirement already satisfied: pandas in /usr/local/lib/python3.10/dist-packages (from useful-rdkit-utils) (2.2.2)\n",
            "Requirement already satisfied: pyarrow in /usr/local/lib/python3.10/dist-packages (from useful-rdkit-utils) (16.1.0)\n",
            "Collecting pystow (from useful-rdkit-utils)\n",
            "  Downloading pystow-0.5.6-py3-none-any.whl.metadata (8.9 kB)\n",
            "Collecting rdkit (from useful-rdkit-utils)\n",
            "  Downloading rdkit-2024.3.5-cp310-cp310-manylinux_2_28_x86_64.whl.metadata (3.9 kB)\n",
            "Requirement already satisfied: python-dateutil>=2.8.2 in /usr/local/lib/python3.10/dist-packages (from pandas->useful-rdkit-utils) (2.8.2)\n",
            "Requirement already satisfied: pytz>=2020.1 in /usr/local/lib/python3.10/dist-packages (from pandas->useful-rdkit-utils) (2024.2)\n",
            "Requirement already satisfied: tzdata>=2022.7 in /usr/local/lib/python3.10/dist-packages (from pandas->useful-rdkit-utils) (2024.2)\n",
            "Requirement already satisfied: click in /usr/local/lib/python3.10/dist-packages (from pystow->useful-rdkit-utils) (8.1.7)\n",
            "Requirement already satisfied: requests in /usr/local/lib/python3.10/dist-packages (from pystow->useful-rdkit-utils) (2.32.3)\n",
            "Requirement already satisfied: tqdm in /usr/local/lib/python3.10/dist-packages (from pystow->useful-rdkit-utils) (4.66.5)\n",
            "Requirement already satisfied: Pillow in /usr/local/lib/python3.10/dist-packages (from rdkit->useful-rdkit-utils) (10.4.0)\n",
            "Requirement already satisfied: six>=1.5 in /usr/local/lib/python3.10/dist-packages (from python-dateutil>=2.8.2->pandas->useful-rdkit-utils) (1.16.0)\n",
            "Requirement already satisfied: charset-normalizer<4,>=2 in /usr/local/lib/python3.10/dist-packages (from requests->pystow->useful-rdkit-utils) (3.4.0)\n",
            "Requirement already satisfied: idna<4,>=2.5 in /usr/local/lib/python3.10/dist-packages (from requests->pystow->useful-rdkit-utils) (3.10)\n",
            "Requirement already satisfied: urllib3<3,>=1.21.1 in /usr/local/lib/python3.10/dist-packages (from requests->pystow->useful-rdkit-utils) (2.2.3)\n",
            "Requirement already satisfied: certifi>=2017.4.17 in /usr/local/lib/python3.10/dist-packages (from requests->pystow->useful-rdkit-utils) (2024.8.30)\n",
            "Downloading useful_rdkit_utils-0.3.12-py3-none-any.whl (1.1 MB)\n",
            "\u001b[2K   \u001b[90m━━━━━━━━━━━━━━━━━━━━━━━━━━━━━━━━━━━━━━━━\u001b[0m \u001b[32m1.1/1.1 MB\u001b[0m \u001b[31m14.1 MB/s\u001b[0m eta \u001b[36m0:00:00\u001b[0m\n",
            "\u001b[?25hDownloading pystow-0.5.6-py3-none-any.whl (32 kB)\n",
            "Downloading rdkit-2024.3.5-cp310-cp310-manylinux_2_28_x86_64.whl (33.1 MB)\n",
            "\u001b[2K   \u001b[90m━━━━━━━━━━━━━━━━━━━━━━━━━━━━━━━━━━━━━━━━\u001b[0m \u001b[32m33.1/33.1 MB\u001b[0m \u001b[31m39.3 MB/s\u001b[0m eta \u001b[36m0:00:00\u001b[0m\n",
            "\u001b[?25hInstalling collected packages: rdkit, pystow, useful-rdkit-utils\n",
            "Successfully installed pystow-0.5.6 rdkit-2024.3.5 useful-rdkit-utils-0.3.12\n",
            "Collecting git+https://github.com/hesther/espsim.git@533a53105858d1a25cbe2fb54dd7208d7989caa1\n",
            "  Cloning https://github.com/hesther/espsim.git (to revision 533a53105858d1a25cbe2fb54dd7208d7989caa1) to /tmp/pip-req-build-5l1tmlq4\n",
            "  Running command git clone --filter=blob:none --quiet https://github.com/hesther/espsim.git /tmp/pip-req-build-5l1tmlq4\n",
            "  Running command git rev-parse -q --verify 'sha^533a53105858d1a25cbe2fb54dd7208d7989caa1'\n",
            "  Running command git fetch -q https://github.com/hesther/espsim.git 533a53105858d1a25cbe2fb54dd7208d7989caa1\n",
            "  Running command git checkout -q 533a53105858d1a25cbe2fb54dd7208d7989caa1\n",
            "  Resolved https://github.com/hesther/espsim.git to commit 533a53105858d1a25cbe2fb54dd7208d7989caa1\n",
            "  Preparing metadata (setup.py) ... \u001b[?25l\u001b[?25hdone\n",
            "Building wheels for collected packages: espsim\n",
            "  Building wheel for espsim (setup.py) ... \u001b[?25l\u001b[?25hdone\n",
            "  Created wheel for espsim: filename=espsim-0.0.1-py3-none-any.whl size=19760849 sha256=b253d6b07a8782f7732b3c74b0cfd46a676a3f0c9fbeddc93ee8e73663623957\n",
            "  Stored in directory: /root/.cache/pip/wheels/13/ce/3a/12910e91a70f50364f11cece421b587dd653a5088d60522974\n",
            "Successfully built espsim\n",
            "Installing collected packages: espsim\n",
            "Successfully installed espsim-0.0.1\n",
            "Collecting loguru\n",
            "  Downloading loguru-0.7.2-py3-none-any.whl.metadata (23 kB)\n",
            "Downloading loguru-0.7.2-py3-none-any.whl (62 kB)\n",
            "\u001b[2K   \u001b[90m━━━━━━━━━━━━━━━━━━━━━━━━━━━━━━━━━━━━━━━━\u001b[0m \u001b[32m62.5/62.5 kB\u001b[0m \u001b[31m2.6 MB/s\u001b[0m eta \u001b[36m0:00:00\u001b[0m\n",
            "\u001b[?25hInstalling collected packages: loguru\n",
            "Successfully installed loguru-0.7.2\n",
            "Collecting py3Dmol\n",
            "  Downloading py3Dmol-2.4.0-py2.py3-none-any.whl.metadata (1.9 kB)\n",
            "Downloading py3Dmol-2.4.0-py2.py3-none-any.whl (7.0 kB)\n",
            "Installing collected packages: py3Dmol\n",
            "Successfully installed py3Dmol-2.4.0\n"
          ]
        }
      ],
      "source": [
        "!pip install 'modAL-python>=0.4.1'\n",
        "!pip install useful-rdkit-utils\n",
        "!pip install git+https://github.com/hesther/espsim.git@533a53105858d1a25cbe2fb54dd7208d7989caa1\n",
        "!pip install loguru\n",
        "!pip install py3Dmol"
      ]
    },
    {
      "cell_type": "markdown",
      "id": "6a053bf9",
      "metadata": {
        "pycharm": {
          "name": "#%% md\n"
        },
        "id": "6a053bf9"
      },
      "source": [
        "If we're running on Google Colab, we need to copy the data files and a couple of Python files"
      ]
    },
    {
      "cell_type": "code",
      "execution_count": 2,
      "id": "07f45e68",
      "metadata": {
        "pycharm": {
          "name": "#%%\n"
        },
        "id": "07f45e68"
      },
      "outputs": [],
      "source": [
        "import os, sys\n",
        "IN_COLAB = 'google.colab' in sys.modules\n",
        "\n",
        "if IN_COLAB:\n",
        "  import urllib.request\n",
        "\n",
        "  url = \"https://raw.githubusercontent.com/PatWalters/practical_cheminformatics_tutorials/main/active_learning/align3D_score.py\"\n",
        "  filename = \"align3D_score.py\"\n",
        "  urllib.request.urlretrieve(url,filename)\n",
        "  url = \"https://raw.githubusercontent.com/PatWalters/practical_cheminformatics_tutorials/main/active_learning/gen_conformers.py\"\n",
        "  filename = \"gen_conformers.py\"\n",
        "  urllib.request.urlretrieve(url,filename)\n",
        "\n",
        "  os.makedirs(\"./data\", exist_ok=True)\n",
        "  url = \"https://raw.githubusercontent.com/PatWalters/practical_cheminformatics_tutorials/main/active_learning/data/2chw_lig.sdf\"\n",
        "  filename = \"data/2chw_lig.sdf\"\n",
        "  urllib.request.urlretrieve(url,filename)\n",
        "  url = \"https://raw.githubusercontent.com/PatWalters/practical_cheminformatics_tutorials/main/active_learning/data/MAPK1.csv\"\n",
        "  filename = \"data/MAPK1.csv\"\n",
        "  urllib.request.urlretrieve(url,filename)"
      ]
    },
    {
      "cell_type": "markdown",
      "id": "6bb2eed3",
      "metadata": {
        "pycharm": {
          "name": "#%% md\n"
        },
        "id": "6bb2eed3"
      },
      "source": [
        "Import the the libraries we'll need."
      ]
    },
    {
      "cell_type": "code",
      "execution_count": 3,
      "id": "8debb6a8",
      "metadata": {
        "pycharm": {
          "name": "#%%\n"
        },
        "id": "8debb6a8"
      },
      "outputs": [],
      "source": [
        "from operator import itemgetter\n",
        "\n",
        "import numpy as np\n",
        "import pandas as pd\n",
        "import seaborn as sns\n",
        "import sklearn.gaussian_process as gp\n",
        "import useful_rdkit_utils as uru\n",
        "from modAL.acquisition import BaseLearner\n",
        "from modAL.models import BayesianOptimizer\n",
        "from modAL.utils.data import modALinput\n",
        "from modAL.acquisition import optimizer_PI\n",
        "from rdkit import Chem\n",
        "from sklearn.gaussian_process import GaussianProcessRegressor\n",
        "from tqdm.auto import tqdm\n",
        "from modAL.utils.selection import multi_argmax\n",
        "from align3D_score import score_alignment\n",
        "from gen_conformers import generate_conformers\n",
        "import py3Dmol"
      ]
    },
    {
      "cell_type": "markdown",
      "id": "3669d800",
      "metadata": {
        "pycharm": {
          "name": "#%% md\n"
        },
        "id": "3669d800"
      },
      "source": [
        "### Define an Oracle\n",
        "Here's where we define the oracle that overlays the molecules and compares the shapes and pharmacophoric features."
      ]
    },
    {
      "cell_type": "code",
      "execution_count": 4,
      "id": "5da4e59b",
      "metadata": {
        "pycharm": {
          "name": "#%%\n"
        },
        "id": "5da4e59b"
      },
      "outputs": [],
      "source": [
        "class ShapeOracle:\n",
        "    # instantiate the oracle with a query molecule\n",
        "    def __init__(self, ref_molfile):\n",
        "        self.ref_mol = Chem.MolFromMolFile(ref_molfile)\n",
        "        self.ref_mol = Chem.AddHs(self.ref_mol)\n",
        "\n",
        "    def get_values(self, input_smiles_list):\n",
        "        result_list = []\n",
        "        for smi in tqdm(input_smiles_list):\n",
        "            res = None\n",
        "            mol = Chem.MolFromSmiles(smi)\n",
        "            if mol:\n",
        "                mol = Chem.AddHs(mol)\n",
        "                mol_3d = generate_conformers(mol,25)\n",
        "                if mol_3d:\n",
        "                    res = score_alignment(mol_3d,self.ref_mol)\n",
        "            result_list.append(res)\n",
        "        return result_list"
      ]
    },
    {
      "cell_type": "markdown",
      "id": "f4cd0c12",
      "metadata": {
        "pycharm": {
          "name": "#%% md\n"
        },
        "id": "f4cd0c12"
      },
      "source": [
        "### Define a Kernel Function for Gaussian Process Regression\n",
        "When we do active learning, we have to define a machine learning models that acts as a surrogate for the more expensive calculations.  In this case, we're going to use Gaussian Process Regression (GPR) to build our regression models.  To use GPR, we need to define a kernel function. Here we calculate a kernel based on the Tanimoto similarities of the molecules.\n",
        "\n",
        "A kernel function is a mathematical function used to measure the similarity or distance between data points in a feature space. In the context of GPR, the kernel function defines the covariance between points in the input space, which is crucial for making predictions.\n",
        "\n",
        "Role in Gaussian Process Regression: In GPR, the kernel function helps to model the underlying function that we are trying to learn. It allows the model to capture the relationships between different data points, enabling it to make predictions about unseen data based on the observed data. The choice of kernel function can significantly affect the performance of the GPR model."
      ]
    },
    {
      "cell_type": "code",
      "execution_count": 5,
      "id": "8b37d306",
      "metadata": {
        "pycharm": {
          "name": "#%%\n"
        },
        "id": "8b37d306"
      },
      "outputs": [],
      "source": [
        "def calculate_similarity(a, b):\n",
        "    # Tanimoto similarity a vs. b\n",
        "    aa = np.sum(a, axis=1, keepdims=True)\n",
        "    bb = np.sum(b, axis=1, keepdims=True)\n",
        "    ab = np.matmul(a, b.T)\n",
        "    return np.true_divide(ab, aa + bb.T - ab)\n",
        "\n",
        "\n",
        "class TanimotoKernel(gp.kernels.NormalizedKernelMixin,\n",
        "                     gp.kernels.StationaryKernelMixin, gp.kernels.Kernel):\n",
        "\n",
        "    def __init__(self):\n",
        "        pass\n",
        "\n",
        "    def __call__(self, X, Y=None, eval_gradient=False):\n",
        "        assert not eval_gradient\n",
        "        if Y is None:\n",
        "            Y = X\n",
        "        return calculate_similarity(X, Y)"
      ]
    },
    {
      "cell_type": "markdown",
      "id": "d15d603a",
      "metadata": {
        "pycharm": {
          "name": "#%% md\n"
        },
        "id": "d15d603a"
      },
      "source": [
        "Enable progress bars for the Pandas apply function."
      ]
    },
    {
      "cell_type": "code",
      "execution_count": 6,
      "id": "41cfde32",
      "metadata": {
        "pycharm": {
          "name": "#%%\n"
        },
        "id": "41cfde32"
      },
      "outputs": [],
      "source": [
        "tqdm.pandas()"
      ]
    },
    {
      "cell_type": "markdown",
      "id": "d4a13515",
      "metadata": {
        "pycharm": {
          "name": "#%% md\n"
        },
        "id": "d4a13515"
      },
      "source": [
        "### Read the Input Data\n",
        "Read the input data.  This data comes from the [LitPBCBA](https://pubs.acs.org/doi/10.1021/acs.jcim.0c00155) sets."
      ]
    },
    {
      "cell_type": "code",
      "execution_count": 7,
      "id": "cd5060a1",
      "metadata": {
        "pycharm": {
          "name": "#%%\n"
        },
        "id": "cd5060a1"
      },
      "outputs": [],
      "source": [
        "df = pd.read_csv(\"data/MAPK1.csv\")"
      ]
    },
    {
      "cell_type": "markdown",
      "id": "e118c239",
      "metadata": {
        "pycharm": {
          "name": "#%% md\n"
        },
        "id": "e118c239"
      },
      "source": [
        "Take a quick look at the data.  In this case we're going to ignore the activity column."
      ]
    },
    {
      "cell_type": "code",
      "execution_count": 8,
      "id": "a8d6b48d",
      "metadata": {
        "pycharm": {
          "name": "#%%\n"
        },
        "colab": {
          "base_uri": "https://localhost:8080/",
          "height": 424
        },
        "id": "a8d6b48d",
        "outputId": "e61fefb2-fc6c-4809-e1fa-ec60f0cecacd"
      },
      "outputs": [
        {
          "output_type": "execute_result",
          "data": {
            "text/plain": [
              "                                                  SMILES     Name  active\n",
              "0          O=C(c1ccncc1)C23C[N@@]4C[N@@](C[NH+](C4)C2)C3  7975332       0\n",
              "1                 CCN(c1cccc(C)c1)S(=O)(=O)c2cccc3nsnc23  4241206       0\n",
              "2                                    CC1CCCCN1c2nnc(N)s2  4243040       0\n",
              "3      CN1C(=O)C2(C(=C([NH3+])Oc3[nH]nc(c4ccc(Cl)cc4)...   862502       0\n",
              "4                       CCOc1ccc(cc1OCC)C(=O)Nc2nnc(C)s2  7977049       0\n",
              "...                                                  ...      ...     ...\n",
              "62932         ClC1=CCC2C(C1)C(=O)N(CCC(=O)NCc3occc3)C2=O  4262792       0\n",
              "62933  CCO\\C(=C/1\\C(c2ccc(OCC)c(OC)c2)n3nc(C)nc3N=C1C)\\O  7966068       0\n",
              "62934    CCOC(=O)N1CC[NH+](CC(=O)c2c(C)[nH]c3ccccc23)CC1  4258998       0\n",
              "62935         CC(C)(C)c1ccc(cc1)S(=O)(=O)N2CCN(CCC#N)CC2  7965720       0\n",
              "62936  CCOC(=O)C1CCC[NH+](CC(=O)Nc2c(F)c(F)c(F)c(F)c2...  3714960       0\n",
              "\n",
              "[62937 rows x 3 columns]"
            ],
            "text/html": [
              "\n",
              "  <div id=\"df-292efa85-1921-4d94-ae04-dc5a04e1d25e\" class=\"colab-df-container\">\n",
              "    <div>\n",
              "<style scoped>\n",
              "    .dataframe tbody tr th:only-of-type {\n",
              "        vertical-align: middle;\n",
              "    }\n",
              "\n",
              "    .dataframe tbody tr th {\n",
              "        vertical-align: top;\n",
              "    }\n",
              "\n",
              "    .dataframe thead th {\n",
              "        text-align: right;\n",
              "    }\n",
              "</style>\n",
              "<table border=\"1\" class=\"dataframe\">\n",
              "  <thead>\n",
              "    <tr style=\"text-align: right;\">\n",
              "      <th></th>\n",
              "      <th>SMILES</th>\n",
              "      <th>Name</th>\n",
              "      <th>active</th>\n",
              "    </tr>\n",
              "  </thead>\n",
              "  <tbody>\n",
              "    <tr>\n",
              "      <th>0</th>\n",
              "      <td>O=C(c1ccncc1)C23C[N@@]4C[N@@](C[NH+](C4)C2)C3</td>\n",
              "      <td>7975332</td>\n",
              "      <td>0</td>\n",
              "    </tr>\n",
              "    <tr>\n",
              "      <th>1</th>\n",
              "      <td>CCN(c1cccc(C)c1)S(=O)(=O)c2cccc3nsnc23</td>\n",
              "      <td>4241206</td>\n",
              "      <td>0</td>\n",
              "    </tr>\n",
              "    <tr>\n",
              "      <th>2</th>\n",
              "      <td>CC1CCCCN1c2nnc(N)s2</td>\n",
              "      <td>4243040</td>\n",
              "      <td>0</td>\n",
              "    </tr>\n",
              "    <tr>\n",
              "      <th>3</th>\n",
              "      <td>CN1C(=O)C2(C(=C([NH3+])Oc3[nH]nc(c4ccc(Cl)cc4)...</td>\n",
              "      <td>862502</td>\n",
              "      <td>0</td>\n",
              "    </tr>\n",
              "    <tr>\n",
              "      <th>4</th>\n",
              "      <td>CCOc1ccc(cc1OCC)C(=O)Nc2nnc(C)s2</td>\n",
              "      <td>7977049</td>\n",
              "      <td>0</td>\n",
              "    </tr>\n",
              "    <tr>\n",
              "      <th>...</th>\n",
              "      <td>...</td>\n",
              "      <td>...</td>\n",
              "      <td>...</td>\n",
              "    </tr>\n",
              "    <tr>\n",
              "      <th>62932</th>\n",
              "      <td>ClC1=CCC2C(C1)C(=O)N(CCC(=O)NCc3occc3)C2=O</td>\n",
              "      <td>4262792</td>\n",
              "      <td>0</td>\n",
              "    </tr>\n",
              "    <tr>\n",
              "      <th>62933</th>\n",
              "      <td>CCO\\C(=C/1\\C(c2ccc(OCC)c(OC)c2)n3nc(C)nc3N=C1C)\\O</td>\n",
              "      <td>7966068</td>\n",
              "      <td>0</td>\n",
              "    </tr>\n",
              "    <tr>\n",
              "      <th>62934</th>\n",
              "      <td>CCOC(=O)N1CC[NH+](CC(=O)c2c(C)[nH]c3ccccc23)CC1</td>\n",
              "      <td>4258998</td>\n",
              "      <td>0</td>\n",
              "    </tr>\n",
              "    <tr>\n",
              "      <th>62935</th>\n",
              "      <td>CC(C)(C)c1ccc(cc1)S(=O)(=O)N2CCN(CCC#N)CC2</td>\n",
              "      <td>7965720</td>\n",
              "      <td>0</td>\n",
              "    </tr>\n",
              "    <tr>\n",
              "      <th>62936</th>\n",
              "      <td>CCOC(=O)C1CCC[NH+](CC(=O)Nc2c(F)c(F)c(F)c(F)c2...</td>\n",
              "      <td>3714960</td>\n",
              "      <td>0</td>\n",
              "    </tr>\n",
              "  </tbody>\n",
              "</table>\n",
              "<p>62937 rows × 3 columns</p>\n",
              "</div>\n",
              "    <div class=\"colab-df-buttons\">\n",
              "\n",
              "  <div class=\"colab-df-container\">\n",
              "    <button class=\"colab-df-convert\" onclick=\"convertToInteractive('df-292efa85-1921-4d94-ae04-dc5a04e1d25e')\"\n",
              "            title=\"Convert this dataframe to an interactive table.\"\n",
              "            style=\"display:none;\">\n",
              "\n",
              "  <svg xmlns=\"http://www.w3.org/2000/svg\" height=\"24px\" viewBox=\"0 -960 960 960\">\n",
              "    <path d=\"M120-120v-720h720v720H120Zm60-500h600v-160H180v160Zm220 220h160v-160H400v160Zm0 220h160v-160H400v160ZM180-400h160v-160H180v160Zm440 0h160v-160H620v160ZM180-180h160v-160H180v160Zm440 0h160v-160H620v160Z\"/>\n",
              "  </svg>\n",
              "    </button>\n",
              "\n",
              "  <style>\n",
              "    .colab-df-container {\n",
              "      display:flex;\n",
              "      gap: 12px;\n",
              "    }\n",
              "\n",
              "    .colab-df-convert {\n",
              "      background-color: #E8F0FE;\n",
              "      border: none;\n",
              "      border-radius: 50%;\n",
              "      cursor: pointer;\n",
              "      display: none;\n",
              "      fill: #1967D2;\n",
              "      height: 32px;\n",
              "      padding: 0 0 0 0;\n",
              "      width: 32px;\n",
              "    }\n",
              "\n",
              "    .colab-df-convert:hover {\n",
              "      background-color: #E2EBFA;\n",
              "      box-shadow: 0px 1px 2px rgba(60, 64, 67, 0.3), 0px 1px 3px 1px rgba(60, 64, 67, 0.15);\n",
              "      fill: #174EA6;\n",
              "    }\n",
              "\n",
              "    .colab-df-buttons div {\n",
              "      margin-bottom: 4px;\n",
              "    }\n",
              "\n",
              "    [theme=dark] .colab-df-convert {\n",
              "      background-color: #3B4455;\n",
              "      fill: #D2E3FC;\n",
              "    }\n",
              "\n",
              "    [theme=dark] .colab-df-convert:hover {\n",
              "      background-color: #434B5C;\n",
              "      box-shadow: 0px 1px 3px 1px rgba(0, 0, 0, 0.15);\n",
              "      filter: drop-shadow(0px 1px 2px rgba(0, 0, 0, 0.3));\n",
              "      fill: #FFFFFF;\n",
              "    }\n",
              "  </style>\n",
              "\n",
              "    <script>\n",
              "      const buttonEl =\n",
              "        document.querySelector('#df-292efa85-1921-4d94-ae04-dc5a04e1d25e button.colab-df-convert');\n",
              "      buttonEl.style.display =\n",
              "        google.colab.kernel.accessAllowed ? 'block' : 'none';\n",
              "\n",
              "      async function convertToInteractive(key) {\n",
              "        const element = document.querySelector('#df-292efa85-1921-4d94-ae04-dc5a04e1d25e');\n",
              "        const dataTable =\n",
              "          await google.colab.kernel.invokeFunction('convertToInteractive',\n",
              "                                                    [key], {});\n",
              "        if (!dataTable) return;\n",
              "\n",
              "        const docLinkHtml = 'Like what you see? Visit the ' +\n",
              "          '<a target=\"_blank\" href=https://colab.research.google.com/notebooks/data_table.ipynb>data table notebook</a>'\n",
              "          + ' to learn more about interactive tables.';\n",
              "        element.innerHTML = '';\n",
              "        dataTable['output_type'] = 'display_data';\n",
              "        await google.colab.output.renderOutput(dataTable, element);\n",
              "        const docLink = document.createElement('div');\n",
              "        docLink.innerHTML = docLinkHtml;\n",
              "        element.appendChild(docLink);\n",
              "      }\n",
              "    </script>\n",
              "  </div>\n",
              "\n",
              "\n",
              "<div id=\"df-986a2b06-4e3f-4832-b1a8-98e37e184f2e\">\n",
              "  <button class=\"colab-df-quickchart\" onclick=\"quickchart('df-986a2b06-4e3f-4832-b1a8-98e37e184f2e')\"\n",
              "            title=\"Suggest charts\"\n",
              "            style=\"display:none;\">\n",
              "\n",
              "<svg xmlns=\"http://www.w3.org/2000/svg\" height=\"24px\"viewBox=\"0 0 24 24\"\n",
              "     width=\"24px\">\n",
              "    <g>\n",
              "        <path d=\"M19 3H5c-1.1 0-2 .9-2 2v14c0 1.1.9 2 2 2h14c1.1 0 2-.9 2-2V5c0-1.1-.9-2-2-2zM9 17H7v-7h2v7zm4 0h-2V7h2v10zm4 0h-2v-4h2v4z\"/>\n",
              "    </g>\n",
              "</svg>\n",
              "  </button>\n",
              "\n",
              "<style>\n",
              "  .colab-df-quickchart {\n",
              "      --bg-color: #E8F0FE;\n",
              "      --fill-color: #1967D2;\n",
              "      --hover-bg-color: #E2EBFA;\n",
              "      --hover-fill-color: #174EA6;\n",
              "      --disabled-fill-color: #AAA;\n",
              "      --disabled-bg-color: #DDD;\n",
              "  }\n",
              "\n",
              "  [theme=dark] .colab-df-quickchart {\n",
              "      --bg-color: #3B4455;\n",
              "      --fill-color: #D2E3FC;\n",
              "      --hover-bg-color: #434B5C;\n",
              "      --hover-fill-color: #FFFFFF;\n",
              "      --disabled-bg-color: #3B4455;\n",
              "      --disabled-fill-color: #666;\n",
              "  }\n",
              "\n",
              "  .colab-df-quickchart {\n",
              "    background-color: var(--bg-color);\n",
              "    border: none;\n",
              "    border-radius: 50%;\n",
              "    cursor: pointer;\n",
              "    display: none;\n",
              "    fill: var(--fill-color);\n",
              "    height: 32px;\n",
              "    padding: 0;\n",
              "    width: 32px;\n",
              "  }\n",
              "\n",
              "  .colab-df-quickchart:hover {\n",
              "    background-color: var(--hover-bg-color);\n",
              "    box-shadow: 0 1px 2px rgba(60, 64, 67, 0.3), 0 1px 3px 1px rgba(60, 64, 67, 0.15);\n",
              "    fill: var(--button-hover-fill-color);\n",
              "  }\n",
              "\n",
              "  .colab-df-quickchart-complete:disabled,\n",
              "  .colab-df-quickchart-complete:disabled:hover {\n",
              "    background-color: var(--disabled-bg-color);\n",
              "    fill: var(--disabled-fill-color);\n",
              "    box-shadow: none;\n",
              "  }\n",
              "\n",
              "  .colab-df-spinner {\n",
              "    border: 2px solid var(--fill-color);\n",
              "    border-color: transparent;\n",
              "    border-bottom-color: var(--fill-color);\n",
              "    animation:\n",
              "      spin 1s steps(1) infinite;\n",
              "  }\n",
              "\n",
              "  @keyframes spin {\n",
              "    0% {\n",
              "      border-color: transparent;\n",
              "      border-bottom-color: var(--fill-color);\n",
              "      border-left-color: var(--fill-color);\n",
              "    }\n",
              "    20% {\n",
              "      border-color: transparent;\n",
              "      border-left-color: var(--fill-color);\n",
              "      border-top-color: var(--fill-color);\n",
              "    }\n",
              "    30% {\n",
              "      border-color: transparent;\n",
              "      border-left-color: var(--fill-color);\n",
              "      border-top-color: var(--fill-color);\n",
              "      border-right-color: var(--fill-color);\n",
              "    }\n",
              "    40% {\n",
              "      border-color: transparent;\n",
              "      border-right-color: var(--fill-color);\n",
              "      border-top-color: var(--fill-color);\n",
              "    }\n",
              "    60% {\n",
              "      border-color: transparent;\n",
              "      border-right-color: var(--fill-color);\n",
              "    }\n",
              "    80% {\n",
              "      border-color: transparent;\n",
              "      border-right-color: var(--fill-color);\n",
              "      border-bottom-color: var(--fill-color);\n",
              "    }\n",
              "    90% {\n",
              "      border-color: transparent;\n",
              "      border-bottom-color: var(--fill-color);\n",
              "    }\n",
              "  }\n",
              "</style>\n",
              "\n",
              "  <script>\n",
              "    async function quickchart(key) {\n",
              "      const quickchartButtonEl =\n",
              "        document.querySelector('#' + key + ' button');\n",
              "      quickchartButtonEl.disabled = true;  // To prevent multiple clicks.\n",
              "      quickchartButtonEl.classList.add('colab-df-spinner');\n",
              "      try {\n",
              "        const charts = await google.colab.kernel.invokeFunction(\n",
              "            'suggestCharts', [key], {});\n",
              "      } catch (error) {\n",
              "        console.error('Error during call to suggestCharts:', error);\n",
              "      }\n",
              "      quickchartButtonEl.classList.remove('colab-df-spinner');\n",
              "      quickchartButtonEl.classList.add('colab-df-quickchart-complete');\n",
              "    }\n",
              "    (() => {\n",
              "      let quickchartButtonEl =\n",
              "        document.querySelector('#df-986a2b06-4e3f-4832-b1a8-98e37e184f2e button');\n",
              "      quickchartButtonEl.style.display =\n",
              "        google.colab.kernel.accessAllowed ? 'block' : 'none';\n",
              "    })();\n",
              "  </script>\n",
              "</div>\n",
              "\n",
              "  <div id=\"id_ace4018c-e588-4b74-a12d-b19bd39d3bba\">\n",
              "    <style>\n",
              "      .colab-df-generate {\n",
              "        background-color: #E8F0FE;\n",
              "        border: none;\n",
              "        border-radius: 50%;\n",
              "        cursor: pointer;\n",
              "        display: none;\n",
              "        fill: #1967D2;\n",
              "        height: 32px;\n",
              "        padding: 0 0 0 0;\n",
              "        width: 32px;\n",
              "      }\n",
              "\n",
              "      .colab-df-generate:hover {\n",
              "        background-color: #E2EBFA;\n",
              "        box-shadow: 0px 1px 2px rgba(60, 64, 67, 0.3), 0px 1px 3px 1px rgba(60, 64, 67, 0.15);\n",
              "        fill: #174EA6;\n",
              "      }\n",
              "\n",
              "      [theme=dark] .colab-df-generate {\n",
              "        background-color: #3B4455;\n",
              "        fill: #D2E3FC;\n",
              "      }\n",
              "\n",
              "      [theme=dark] .colab-df-generate:hover {\n",
              "        background-color: #434B5C;\n",
              "        box-shadow: 0px 1px 3px 1px rgba(0, 0, 0, 0.15);\n",
              "        filter: drop-shadow(0px 1px 2px rgba(0, 0, 0, 0.3));\n",
              "        fill: #FFFFFF;\n",
              "      }\n",
              "    </style>\n",
              "    <button class=\"colab-df-generate\" onclick=\"generateWithVariable('df')\"\n",
              "            title=\"Generate code using this dataframe.\"\n",
              "            style=\"display:none;\">\n",
              "\n",
              "  <svg xmlns=\"http://www.w3.org/2000/svg\" height=\"24px\"viewBox=\"0 0 24 24\"\n",
              "       width=\"24px\">\n",
              "    <path d=\"M7,19H8.4L18.45,9,17,7.55,7,17.6ZM5,21V16.75L18.45,3.32a2,2,0,0,1,2.83,0l1.4,1.43a1.91,1.91,0,0,1,.58,1.4,1.91,1.91,0,0,1-.58,1.4L9.25,21ZM18.45,9,17,7.55Zm-12,3A5.31,5.31,0,0,0,4.9,8.1,5.31,5.31,0,0,0,1,6.5,5.31,5.31,0,0,0,4.9,4.9,5.31,5.31,0,0,0,6.5,1,5.31,5.31,0,0,0,8.1,4.9,5.31,5.31,0,0,0,12,6.5,5.46,5.46,0,0,0,6.5,12Z\"/>\n",
              "  </svg>\n",
              "    </button>\n",
              "    <script>\n",
              "      (() => {\n",
              "      const buttonEl =\n",
              "        document.querySelector('#id_ace4018c-e588-4b74-a12d-b19bd39d3bba button.colab-df-generate');\n",
              "      buttonEl.style.display =\n",
              "        google.colab.kernel.accessAllowed ? 'block' : 'none';\n",
              "\n",
              "      buttonEl.onclick = () => {\n",
              "        google.colab.notebook.generateWithVariable('df');\n",
              "      }\n",
              "      })();\n",
              "    </script>\n",
              "  </div>\n",
              "\n",
              "    </div>\n",
              "  </div>\n"
            ],
            "application/vnd.google.colaboratory.intrinsic+json": {
              "type": "dataframe",
              "variable_name": "df",
              "summary": "{\n  \"name\": \"df\",\n  \"rows\": 62937,\n  \"fields\": [\n    {\n      \"column\": \"SMILES\",\n      \"properties\": {\n        \"dtype\": \"string\",\n        \"num_unique_values\": 61996,\n        \"samples\": [\n          \"CCCC12CN3CC(C)(C[NH+](C1)C34CCCCC4)C2=O\",\n          \"Fc1cc(F)cc(c1)C2=Nc3cnc(nc3N(C2=O)c4ccccc4)N5CCOCC5\",\n          \"CC(NC(=O)C1CCCCC1)c2ccc3OCCOc3c2\"\n        ],\n        \"semantic_type\": \"\",\n        \"description\": \"\"\n      }\n    },\n    {\n      \"column\": \"Name\",\n      \"properties\": {\n        \"dtype\": \"number\",\n        \"std\": 5476542,\n        \"min\": 842121,\n        \"max\": 26754450,\n        \"num_unique_values\": 62937,\n        \"samples\": [\n          4245317,\n          852684,\n          4251301\n        ],\n        \"semantic_type\": \"\",\n        \"description\": \"\"\n      }\n    },\n    {\n      \"column\": \"active\",\n      \"properties\": {\n        \"dtype\": \"number\",\n        \"std\": 0,\n        \"min\": 0,\n        \"max\": 1,\n        \"num_unique_values\": 2,\n        \"samples\": [\n          1,\n          0\n        ],\n        \"semantic_type\": \"\",\n        \"description\": \"\"\n      }\n    }\n  ]\n}"
            }
          },
          "metadata": {},
          "execution_count": 8
        }
      ],
      "source": [
        "df"
      ]
    },
    {
      "cell_type": "markdown",
      "id": "798c4602",
      "metadata": {
        "pycharm": {
          "name": "#%% md\n"
        },
        "id": "798c4602"
      },
      "source": [
        "Create a LigandId column, we'll use this when we determine how many of the top 100 molecules we've identified."
      ]
    },
    {
      "cell_type": "markdown",
      "id": "8c426477",
      "metadata": {
        "pycharm": {
          "name": "#%% md\n"
        },
        "id": "8c426477"
      },
      "source": [
        "### Generate Descriptors for the Machine Learning Model\n",
        "Add a fingerprint column to the dataframe."
      ]
    },
    {
      "cell_type": "code",
      "execution_count": 9,
      "id": "6b619510",
      "metadata": {
        "pycharm": {
          "name": "#%%\n"
        },
        "colab": {
          "base_uri": "https://localhost:8080/",
          "height": 49,
          "referenced_widgets": [
            "c69b4ae3817244a39562ef3570bebeb6",
            "45f62921603b4d95af8bd0b52883da99",
            "ec23c974c9414040a27df6cb592bad1f",
            "fdf099fff2c34627a6ba1f42e50d0a3d",
            "9831ef68b80d46d7a9ab36dcc063220f",
            "460115d858554a06b0450f5559a8d81e",
            "de881989c9514442a459269fbee04da9",
            "22a5a27b1aed4ee49abef5bde3889386",
            "5b312c5ea6a74b1498e43fdda3be4888",
            "33a3cc4244ee4d349986f5b81ae5405b",
            "105f7d8113cd4f3e95734a495778aaf7"
          ]
        },
        "id": "6b619510",
        "outputId": "03d685be-073c-4a9f-bddd-022b63964264"
      },
      "outputs": [
        {
          "output_type": "display_data",
          "data": {
            "text/plain": [
              "  0%|          | 0/62937 [00:00<?, ?it/s]"
            ],
            "application/vnd.jupyter.widget-view+json": {
              "version_major": 2,
              "version_minor": 0,
              "model_id": "c69b4ae3817244a39562ef3570bebeb6"
            }
          },
          "metadata": {}
        }
      ],
      "source": [
        "df['fp'] = df.SMILES.progress_apply(uru.smi2numpy_fp)"
      ]
    },
    {
      "cell_type": "markdown",
      "id": "1a7214e7",
      "metadata": {
        "pycharm": {
          "name": "#%% md\n"
        },
        "id": "1a7214e7"
      },
      "source": [
        "Create a pool of fingerprints for the active learning algorithm to draw from."
      ]
    },
    {
      "cell_type": "code",
      "execution_count": 10,
      "id": "a907c5ea",
      "metadata": {
        "pycharm": {
          "name": "#%%\n"
        },
        "id": "a907c5ea"
      },
      "outputs": [],
      "source": [
        "X_pool = np.stack(df.fp.values)"
      ]
    },
    {
      "cell_type": "markdown",
      "id": "f7cfe40c",
      "metadata": {
        "pycharm": {
          "name": "#%% md\n"
        },
        "id": "f7cfe40c"
      },
      "source": [
        "### Define a Few Utility Functions"
      ]
    },
    {
      "cell_type": "markdown",
      "id": "30d4bd05",
      "metadata": {
        "pycharm": {
          "name": "#%% md\n"
        },
        "id": "30d4bd05"
      },
      "source": [
        "For the greedy search, we want to select the best scoring molecules, but we want to avoid selecting the same molecules multiple times. This function accepts a list of predictions and does the following.\n",
        "- Sort by score\n",
        "- Remove the molecules that were previously selected\n",
        "- Return the top **num_to_choose**"
      ]
    },
    {
      "cell_type": "code",
      "execution_count": 11,
      "id": "fe11297b",
      "metadata": {
        "pycharm": {
          "name": "#%%\n"
        },
        "id": "fe11297b"
      },
      "outputs": [],
      "source": [
        "def find_best_idx(predicted, used, num_to_choose):\n",
        "    tmp_list = list(enumerate(predicted))\n",
        "    tmp_list.sort(key=itemgetter(1), reverse=True)\n",
        "    tmp_list = [x for x in tmp_list if x[0] not in used]\n",
        "    tmp_list = [x[0] for x in tmp_list]\n",
        "    return tmp_list[:num_to_choose]"
      ]
    },
    {
      "cell_type": "markdown",
      "id": "76daee62",
      "metadata": {
        "pycharm": {
          "name": "#%% md\n"
        },
        "id": "76daee62"
      },
      "source": [
        "A function to combine the results from the shape search into the dataframe with the molecules."
      ]
    },
    {
      "cell_type": "code",
      "execution_count": 12,
      "id": "000ccbd0",
      "metadata": {
        "pycharm": {
          "name": "#%%\n"
        },
        "id": "000ccbd0"
      },
      "outputs": [],
      "source": [
        "def compile_results(df_in, shape_results):\n",
        "    df_in['shape_res'] = shape_results\n",
        "    df_in.dropna(subset='shape_res',inplace=True)\n",
        "    df_in['score'] = [x.shape_score + x.esp_score + x.rdkit_score for x in df_in.shape_res]\n",
        "    return df_in"
      ]
    },
    {
      "cell_type": "markdown",
      "id": "f1df581e",
      "metadata": {
        "pycharm": {
          "name": "#%% md\n"
        },
        "id": "f1df581e"
      },
      "source": [
        "### Define the Acquisition Functions\n",
        "Acquisition functions are mathematical strategies used in optimization problems, particularly in the context of machine learning and Bayesian optimization. They guide the selection of the next data points to evaluate in order to improve a model's performance efficiently.\n",
        "\n",
        "Contextual Relevance: In the provided context, acquisition functions are discussed in relation to active learning and free energy calculations. The mention of different types of acquisition functions, such as the \"greedy\" approach and \"my_max_PI,\" indicates that these functions play a crucial role in determining how to sample or evaluate new data points (in this case, molecules) based on their predicted performance.\n",
        "\n",
        "Types of Acquisition Functions:\n",
        "\n",
        "Greedy Function: This function selects the top n scoring molecules based on their predicted performance. It is a straightforward approach that focuses on immediate gains.\n",
        "Probability of Improvement (PI): The \"my_max_PI\" function aims to maximize the probability of improvement over the current best solution. It balances exploration (trying new, uncertain options) and exploitation (focusing on known high-performing options).\n",
        "\n",
        "Here are a couple of acquistion functions.  The first **greedy** simply selects the **n** top scoring molecules to be evaluated by the oracle.  The second **my_max_PI** maximizes the Probability of Improvement (PI) and uses uncertainty and the scores to balance exploration and exploitation.  The git repo associated with our paper [\"Optimizing active learning for free energy calculations\"](https://www.sciencedirect.com/science/article/pii/S2667318522000204) has examples of several other acquistion functions.  TLDR from our work, the acquistion function doesn't make a huge difference."
      ]
    },
    {
      "cell_type": "code",
      "execution_count": 13,
      "id": "241046d8",
      "metadata": {
        "pycharm": {
          "name": "#%%\n"
        },
        "id": "241046d8"
      },
      "outputs": [],
      "source": [
        "def greedy(optimizer: BaseLearner, X: modALinput, n_instances=1, used=[]):\n",
        "    res = optimizer.predict(X)\n",
        "    best_idx = find_best_idx(res, used, n_instances)\n",
        "    return best_idx, X[best_idx]\n",
        "\n",
        "def my_max_PI(optimizer: BaseLearner, X: modALinput, tradeoff: float = 0,\n",
        "           n_instances: int = 1, used = [], cycle = -1) -> np.ndarray:\n",
        "    pi = optimizer_PI(optimizer, X, tradeoff=tradeoff)\n",
        "    best_idx = find_best_idx(pi, used, n_instances)\n",
        "    return best_idx, X[best_idx]"
      ]
    },
    {
      "cell_type": "markdown",
      "id": "7d2e2253",
      "metadata": {
        "pycharm": {
          "name": "#%% md\n"
        },
        "id": "7d2e2253"
      },
      "source": [
        "### Run Active Learning"
      ]
    },
    {
      "cell_type": "markdown",
      "id": "73b52131",
      "metadata": {
        "pycharm": {
          "name": "#%% md\n"
        },
        "id": "73b52131"
      },
      "source": [
        "Create an oracle that will return values.\n",
        "Template molecule is in sdf file format."
      ]
    },
    {
      "cell_type": "code",
      "execution_count": 14,
      "id": "aefb3804",
      "metadata": {
        "pycharm": {
          "name": "#%%\n"
        },
        "id": "aefb3804"
      },
      "outputs": [],
      "source": [
        "oracle = ShapeOracle(\"data/2chw_lig.sdf\")"
      ]
    },
    {
      "cell_type": "markdown",
      "id": "bf69645c",
      "metadata": {
        "pycharm": {
          "name": "#%% md\n"
        },
        "id": "bf69645c"
      },
      "source": [
        "This is the main active learning loop. We'll do 5 cycles of active learning.  On Colab each loop takes 1-2 min, on my M1 Mac, each cycle takes 10-20 sec.  "
      ]
    },
    {
      "cell_type": "code",
      "execution_count": 15,
      "id": "575b177f",
      "metadata": {
        "pycharm": {
          "name": "#%%\n"
        },
        "colab": {
          "base_uri": "https://localhost:8080/",
          "height": 209,
          "referenced_widgets": [
            "7e435090f84d45489f65bfa909dc460d",
            "5bf4e6d2d7ad4132a42da2629b5333ab",
            "90db608e932c407396b3b76248aabe56",
            "483e57eb431949ac8d4bdf5b22b04145",
            "390494be3f6a4d529b41e8d4783fb895",
            "507551b7da1849d7891c05fbd6bb1810",
            "b4156dd75f054b06a4f143bc4b4c181d",
            "99c399607afd49df98aa06107e746fb2",
            "3137f9f8224345ad8f53f9e072436d5c",
            "162e8c764305458ba0a8e3146393bdc2",
            "269efab87bbe4793aec0f8c649f0582c",
            "6b1bb826bc224b3fb404f71a1250d170",
            "972ed04a961b45339902223a970492d5",
            "981bb844aadc492e9ae8d61ccd5fdea9",
            "adf891bc4c2f4c278780a3735e76e6ce",
            "fa802f582968459daa5992acf382fd37",
            "7ce7b252dc83473e9dfda9c25d3b28f7",
            "b80f3efe7dae4b14bf35736fd6ea12e8",
            "013b109f02104beca99bda5d62f5f2b7",
            "8d6cdab3db24419cb9f6673428d9e20a",
            "114658639a4e4b79a1da45b04b70feab",
            "b712c9964db24c0693cddf339601e688",
            "606a3fc2b2534f1ab211c371c02e476e",
            "950c590db7c1403382a63cf6dcfe9c47",
            "d4459c7a3b00485594e0af2779f7897d",
            "9bfb20aedd72448e890442a1aaabfd6a",
            "022e2bef9a3e4278b109dcddafe7c0d1",
            "0c6d411eb9c1429aaa559400751f7f19",
            "9af55bd7b44f4cbca00fadd53c51eaa9",
            "eca8d7a71fd64bd09066289c04156540",
            "64b6cca9de6f46f7958f45c97215ba16",
            "9160052cee914209809f4725c36d24ef",
            "b0e099c525f74f45a1d3db624fffe685",
            "1b8b3b9d31484996808ced8eda1fbfb2",
            "6412fa8da3b740bbbe3fa60c0e9c2573",
            "31fde94ed0be41f7b9170cdb6452830d",
            "e2da005f401143c1b50fb2f75660a6d4",
            "e05ff41f3ee9406187e4f4078862b2e5",
            "fce5f84785a74eff8cf1354b2c7db84d",
            "d527b39b074e40759b87e87452ee8d4e",
            "45e1700719a24ff68a0ac28f99df0ccb",
            "2f030f36a7a746a196b7d3c45305109a",
            "c9cc902a426645b090376497ad4ef61f",
            "340cc01bd48345d9b123e0d07aa734fe",
            "c97dc58295bb4ee6a11300c99bc7f84a",
            "d55da909868548bcafb23c327cc58834",
            "08162716476a4877bfb2b1629787b2c2",
            "363799b84f574eb19000358388320259",
            "4736ac4dea2b4c03b684a3ab7a3c7aed",
            "8ccd830af6344b6bb6eee635dedbce7c",
            "4b39c4791bdf4067ac6bd9b0afe639f3",
            "2abca338859a4c499f7085893ad24e94",
            "eadb7845c7ea44a0b012bedea5d38d77",
            "f3d2bdd8468142ab9b95f52428ac8a5d",
            "10c2246b19c4478abe73ad44e7732f00",
            "a96954e1df4b4090aa2ed4f8109eb745",
            "15f2543b12ff40378201233cfd6ac7eb",
            "c67d0c488ffc48dd89241e578fd55cce",
            "e285741c16474790a0d0d9303b369e7e",
            "58ebb7bd5b024bc8be821e7b96e2ddde",
            "c517e360442b4481afcab2cf3ff73a14",
            "5e2323e649c445808a7c87fe80374e3d",
            "f043256e871c4c259eaa320ad57ba8b8",
            "a9ff154bfdbb47b0bbaa172ac4a0c4ae",
            "2d1203f6a2a2455e83c14ef1325c7f38",
            "2883487aa5a342908bffba8c09783a47"
          ]
        },
        "id": "575b177f",
        "outputId": "40b82038-1bac-4c6a-b538-d3214de442e2"
      },
      "outputs": [
        {
          "output_type": "display_data",
          "data": {
            "text/plain": [
              "  0%|          | 0/100 [00:00<?, ?it/s]"
            ],
            "application/vnd.jupyter.widget-view+json": {
              "version_major": 2,
              "version_minor": 0,
              "model_id": "7e435090f84d45489f65bfa909dc460d"
            }
          },
          "metadata": {}
        },
        {
          "output_type": "display_data",
          "data": {
            "text/plain": [
              "  0%|          | 0/100 [00:00<?, ?it/s]"
            ],
            "application/vnd.jupyter.widget-view+json": {
              "version_major": 2,
              "version_minor": 0,
              "model_id": "6b1bb826bc224b3fb404f71a1250d170"
            }
          },
          "metadata": {}
        },
        {
          "output_type": "display_data",
          "data": {
            "text/plain": [
              "  0%|          | 0/100 [00:00<?, ?it/s]"
            ],
            "application/vnd.jupyter.widget-view+json": {
              "version_major": 2,
              "version_minor": 0,
              "model_id": "606a3fc2b2534f1ab211c371c02e476e"
            }
          },
          "metadata": {}
        },
        {
          "output_type": "display_data",
          "data": {
            "text/plain": [
              "  0%|          | 0/100 [00:00<?, ?it/s]"
            ],
            "application/vnd.jupyter.widget-view+json": {
              "version_major": 2,
              "version_minor": 0,
              "model_id": "1b8b3b9d31484996808ced8eda1fbfb2"
            }
          },
          "metadata": {}
        },
        {
          "output_type": "display_data",
          "data": {
            "text/plain": [
              "  0%|          | 0/100 [00:00<?, ?it/s]"
            ],
            "application/vnd.jupyter.widget-view+json": {
              "version_major": 2,
              "version_minor": 0,
              "model_id": "c97dc58295bb4ee6a11300c99bc7f84a"
            }
          },
          "metadata": {}
        },
        {
          "output_type": "display_data",
          "data": {
            "text/plain": [
              "  0%|          | 0/100 [00:00<?, ?it/s]"
            ],
            "application/vnd.jupyter.widget-view+json": {
              "version_major": 2,
              "version_minor": 0,
              "model_id": "a96954e1df4b4090aa2ed4f8109eb745"
            }
          },
          "metadata": {}
        }
      ],
      "source": [
        "# number of molecules to select at each active learning cycle\n",
        "n_instances = 100\n",
        "# number of active learning cycles to run\n",
        "n_cycles = 5\n",
        "\n",
        "# define the acquistion function\n",
        "query_strategy = my_max_PI\n",
        "\n",
        "# select an initial random sample\n",
        "sample_df = df.sample(n_instances).copy()\n",
        "sample_df['cycle'] = 0\n",
        "# get the shape scores for the random sample\n",
        "init_shape_res = oracle.get_values(sample_df.SMILES.values)\n",
        "# add the scores to the dataframe\n",
        "sample_df = compile_results(sample_df, init_shape_res)\n",
        "# define X and y to train the initial model\n",
        "X_initial = sample_df.fp.values\n",
        "y_initial = sample_df.score.values\n",
        "\n",
        "# instantiate the optimizer with an estimator, training data, and an acquistion function\n",
        "optimizer = BayesianOptimizer(estimator=GaussianProcessRegressor(kernel=TanimotoKernel()),\n",
        "                              X_training=np.stack(X_initial), y_training=y_initial,\n",
        "                              query_strategy=query_strategy)\n",
        "\n",
        "# initalize a list of results\n",
        "result_list = [sample_df]\n",
        "used = list(sample_df.index)\n",
        "\n",
        "# the active learning loop\n",
        "for i in range(0, n_cycles):\n",
        "    # ask the optimizer for the next set of molecules\n",
        "    query_idx, query_desc = optimizer.query(X_pool, n_instances=n_instances, used=used)\n",
        "    # create dataframe with the next set of molecules\n",
        "    tmp_df = df.iloc[query_idx].copy()\n",
        "    # get the shape scores\n",
        "    shape_res = oracle.get_values(tmp_df.SMILES.values)\n",
        "    # add the results to the dataframe\n",
        "    tmp_df = compile_results(tmp_df, shape_res)\n",
        "    tmp_df['cycle'] = i+1\n",
        "    # add the current dataframe to result_list\n",
        "    result_list.append(tmp_df)\n",
        "    # keep track of the molecules we've used\n",
        "    used += list(tmp_df.index)\n",
        "    # update the optimizer with the new values\n",
        "    #optimizer.teach(query_desc, tmp_df.score.values)\n",
        "    optimizer.teach(np.stack(tmp_df.fp.values), tmp_df.score.values)"
      ]
    },
    {
      "cell_type": "markdown",
      "id": "09128435",
      "metadata": {
        "pycharm": {
          "name": "#%% md\n"
        },
        "id": "09128435"
      },
      "source": [
        "Combine the results from the active active learning cycles into a one dataframe."
      ]
    },
    {
      "cell_type": "code",
      "execution_count": 16,
      "id": "80cac783",
      "metadata": {
        "pycharm": {
          "name": "#%%\n"
        },
        "colab": {
          "base_uri": "https://localhost:8080/"
        },
        "id": "80cac783",
        "outputId": "ca87acae-7178-4caa-d112-4d543c724f34"
      },
      "outputs": [
        {
          "output_type": "execute_result",
          "data": {
            "text/plain": [
              "600"
            ]
          },
          "metadata": {},
          "execution_count": 16
        }
      ],
      "source": [
        "combo_df = pd.concat(result_list)\n",
        "len(combo_df)"
      ]
    },
    {
      "cell_type": "markdown",
      "id": "dac141fb",
      "metadata": {
        "pycharm": {
          "name": "#%% md\n"
        },
        "id": "dac141fb"
      },
      "source": [
        "View the score distribution for the active learning selections."
      ]
    },
    {
      "cell_type": "code",
      "execution_count": 17,
      "id": "f685443a",
      "metadata": {
        "pycharm": {
          "name": "#%%\n"
        },
        "colab": {
          "base_uri": "https://localhost:8080/",
          "height": 506
        },
        "id": "f685443a",
        "outputId": "2a7ab40b-e60c-4d82-af83-4426c9c666bf"
      },
      "outputs": [
        {
          "output_type": "display_data",
          "data": {
            "text/plain": [
              "<Figure size 500x500 with 1 Axes>"
            ],
            "image/png": "[encoded data removed]"
          },
          "metadata": {}
        }
      ],
      "source": [
        "sns.displot(x=\"score\",data=combo_df);"
      ]
    },
    {
      "cell_type": "markdown",
      "id": "76743058",
      "metadata": {
        "pycharm": {
          "name": "#%% md\n"
        },
        "id": "76743058"
      },
      "source": [
        "### Run Random Selections to Compare With Active Learning\n",
        "Is active learning really better?  Let's select 600 random molecules and compare with the 600 selected using active learning."
      ]
    },
    {
      "cell_type": "code",
      "execution_count": 18,
      "id": "a04615f0",
      "metadata": {
        "pycharm": {
          "name": "#%%\n"
        },
        "colab": {
          "base_uri": "https://localhost:8080/",
          "height": 49,
          "referenced_widgets": [
            "b29166fc136a45c58afcd72e8d3a2d0d",
            "76d97b41867e4d01bb126fa768eabefa",
            "b7d0335f7e314c5190c6ba8337ad4a14",
            "43c8198a3abe492db718f8b1e18f0a87",
            "0a78032224744f6b8110070366008dcc",
            "e7b2c1f8b47f4ae38b37318d6866292d",
            "3018cbe2ff7d4a3a9262af3fc2de571a",
            "d13293f6413948daa396d4f441f31868",
            "856347d9f1624ed3adc8b7d83aa576c2",
            "c1976bfcc3404521876e2ccbb3b0c907",
            "42539d8bfc60453eb23137585dbf1e28"
          ]
        },
        "id": "a04615f0",
        "outputId": "05af303c-d3c3-4533-dd53-13886aea7f03"
      },
      "outputs": [
        {
          "output_type": "display_data",
          "data": {
            "text/plain": [
              "  0%|          | 0/600 [00:00<?, ?it/s]"
            ],
            "application/vnd.jupyter.widget-view+json": {
              "version_major": 2,
              "version_minor": 0,
              "model_id": "b29166fc136a45c58afcd72e8d3a2d0d"
            }
          },
          "metadata": {}
        }
      ],
      "source": [
        "random_df = df.sample(600).copy()\n",
        "random_shape_res = oracle.get_values(random_df.SMILES.values)\n",
        "random_df = compile_results(random_df, random_shape_res)"
      ]
    },
    {
      "cell_type": "markdown",
      "id": "327b63d1",
      "metadata": {
        "pycharm": {
          "name": "#%% md\n"
        },
        "id": "327b63d1"
      },
      "source": [
        "View the score distribution for the random selection"
      ]
    },
    {
      "cell_type": "code",
      "execution_count": 19,
      "id": "54bc2f6c",
      "metadata": {
        "pycharm": {
          "name": "#%%\n"
        },
        "colab": {
          "base_uri": "https://localhost:8080/",
          "height": 507
        },
        "id": "54bc2f6c",
        "outputId": "2f326c9d-cf27-430d-fcef-97a699af7790"
      },
      "outputs": [
        {
          "output_type": "display_data",
          "data": {
            "text/plain": [
              "<Figure size 500x500 with 1 Axes>"
            ],
            "image/png": "[encoded data removed]"
          },
          "metadata": {}
        }
      ],
      "source": [
        "sns.displot(x=\"score\",data=random_df);"
      ]
    },
    {
      "cell_type": "markdown",
      "id": "2cfc437b",
      "metadata": {
        "pycharm": {
          "name": "#%% md\n"
        },
        "id": "2cfc437b"
      },
      "source": [
        "Compare the scores for random selections with active learning."
      ]
    },
    {
      "cell_type": "code",
      "execution_count": 20,
      "id": "054caae0",
      "metadata": {
        "pycharm": {
          "name": "#%%\n"
        },
        "colab": {
          "base_uri": "https://localhost:8080/",
          "height": 449
        },
        "id": "054caae0",
        "outputId": "f0abbf4c-2877-4c5a-b29c-6492ef0ae863"
      },
      "outputs": [
        {
          "output_type": "display_data",
          "data": {
            "text/plain": [
              "<Figure size 640x480 with 1 Axes>"
            ],
            "image/png": "[encoded data removed]"
          },
          "metadata": {}
        }
      ],
      "source": [
        "active_top_100_df = combo_df.sort_values(\"score\",ascending=False).head(100)\n",
        "active_top_100_df['dataset'] = \"active learning\"\n",
        "random_top_100_df = random_df.sort_values(\"score\",ascending=False).head(100)\n",
        "random_top_100_df['dataset'] = \"random\"\n",
        "plot_df = pd.concat([active_top_100_df, random_top_100_df])\n",
        "sns.boxplot(x=\"dataset\",y=\"score\",data=plot_df);"
      ]
    },
    {
      "cell_type": "markdown",
      "id": "d68ce763",
      "metadata": {
        "pycharm": {
          "name": "#%% md\n"
        },
        "id": "d68ce763"
      },
      "source": [
        "Plot the scores of the molecules selected in each active learning round.  Remember that the first active learning cycle was randomly selected."
      ]
    },
    {
      "cell_type": "code",
      "execution_count": 21,
      "id": "9366f78c",
      "metadata": {
        "pycharm": {
          "name": "#%%\n"
        },
        "colab": {
          "base_uri": "https://localhost:8080/",
          "height": 449
        },
        "id": "9366f78c",
        "outputId": "fe6daecf-6833-4701-c7af-e2a7bdc7e63d"
      },
      "outputs": [
        {
          "output_type": "display_data",
          "data": {
            "text/plain": [
              "<Figure size 640x480 with 1 Axes>"
            ],
            "image/png": "[encoded data removed]"
          },
          "metadata": {}
        }
      ],
      "source": [
        "ax = sns.boxplot(x=\"cycle\", y=\"score\", data=combo_df,color=\"lightblue\")\n",
        "ax.set_xlabel(\"Active Learning Cycle\");"
      ]
    },
    {
      "cell_type": "markdown",
      "id": "51530f64",
      "metadata": {
        "pycharm": {
          "name": "#%% md\n"
        },
        "id": "51530f64"
      },
      "source": [
        "Let's look at the overlay of highest scoring  molecule with template and make sure our results make sense. We'll use [Py3DMol](https://pypi.org/project/py3Dmol/) to do this."
      ]
    },
    {
      "cell_type": "code",
      "execution_count": 23,
      "id": "ae8cd85b",
      "metadata": {
        "pycharm": {
          "name": "#%%\n"
        },
        "colab": {
          "base_uri": "https://localhost:8080/",
          "height": 497
        },
        "id": "ae8cd85b",
        "outputId": "7e2e7dc8-bc61-4c0c-e722-6cda86db9e0d"
      },
      "outputs": [
        {
          "output_type": "display_data",
          "data": {
            "application/3dmoljs_load.v0": "<div id=\"3dmolviewer_17303047353742228\"  style=\"position: relative; width: 640px; height: 480px;\">\n        <p id=\"3dmolwarning_17303047353742228\" style=\"background-color:#ffcccc;color:black\">3Dmol.js failed to load for some reason.  Please check your browser console for error messages.<br></p>\n        </div>\n<script>\n\nvar loadScriptAsync = function(uri){\n  return new Promise((resolve, reject) => {\n    //this is to ignore the existence of requirejs amd\n    var savedexports, savedmodule;\n    if (typeof exports !== 'undefined') savedexports = exports;\n    else exports = {}\n    if (typeof module !== 'undefined') savedmodule = module;\n    else module = {}\n\n    var tag = document.createElement('script');\n    tag.src = uri;\n    tag.async = true;\n    tag.onload = () => {\n        exports = savedexports;\n        module = savedmodule;\n        resolve();\n    };\n  var firstScriptTag = document.getElementsByTagName('script')[0];\n  firstScriptTag.parentNode.insertBefore(tag, firstScriptTag);\n});\n};\n\nif(typeof $3Dmolpromise === 'undefined') {\n$3Dmolpromise = null;\n  $3Dmolpromise = loadScriptAsync('https://cdnjs.cloudflare.com/ajax/libs/3Dmol/2.4.0/3Dmol-min.js');\n}\n\nvar viewer_17303047353742228 = null;\nvar warn = document.getElementById(\"3dmolwarning_17303047353742228\");\nif(warn) {\n    warn.parentNode.removeChild(warn);\n}\n$3Dmolpromise.then(function() {\nviewer_17303047353742228 = $3Dmol.createViewer(document.getElementById(\"3dmolviewer_17303047353742228\"),{backgroundColor:\"white\"});\nviewer_17303047353742228.zoomTo();\n\tviewer_17303047353742228.addModel(\"2CHW_ligand2\\n     RDKit          3D\\n\\n 31 35  0  0  1  0  0  0  0  0999 V2000\\n   50.8990   16.3190   31.0490 C   0  0  0  0  0  0  0  0  0  0  0  0\\n   49.8180   16.4300   31.9910 O   0  0  0  0  0  0  0  0  0  0  0  0\\n   49.0900   17.5720   31.8950 C   0  0  0  0  0  0  0  0  0  0  0  0\\n   49.4830   18.6530   31.1140 C   0  0  0  0  0  0  0  0  0  0  0  0\\n   48.6960   19.8030   31.0690 C   0  0  0  0  0  0  0  0  0  0  0  0\\n   47.5060   19.8780   31.8010 C   0  0  0  0  0  0  0  0  0  0  0  0\\n   47.1210   18.7960   32.5900 C   0  0  0  0  0  0  0  0  0  0  0  0\\n   47.9120   17.6500   32.6170 C   0  0  0  0  0  0  0  0  0  0  0  0\\n   47.4980   16.5900   33.4170 N   0  0  0  0  0  0  0  0  0  0  0  0\\n   48.0760   16.4810   34.6750 C   0  0  0  0  0  0  0  0  0  0  0  0\\n   48.9180   17.3100   34.9960 O   0  0  0  0  0  0  0  0  0  0  0  0\\n   47.6950   15.4550   35.5310 C   0  0  0  0  0  0  0  0  0  0  0  0\\n   48.2370   15.2870   36.8230 C   0  0  0  0  0  0  0  0  0  0  0  0\\n   49.4490   16.3440   37.5170 Cl  0  0  0  0  0  0  0  0  0  0  0  0\\n   47.7970   14.2260   37.6120 C   0  0  0  0  0  0  0  0  0  0  0  0\\n   46.8480   13.3370   37.1520 C   0  0  0  0  0  0  0  0  0  0  0  0\\n   46.3170   13.5250   35.8880 C   0  0  0  0  0  0  0  0  0  0  0  0\\n   46.7300   14.5650   35.0630 C   0  0  0  0  0  0  0  0  0  0  0  0\\n   46.1850   14.6820   33.8300 N   0  0  0  0  0  0  0  0  0  0  0  0\\n   46.5280   15.6630   32.9870 C   0  0  0  0  0  0  0  0  0  0  0  0\\n   45.9320   15.7890   31.5640 C   0  0  0  0  0  0  0  0  0  0  0  0\\n   44.6330   14.5990   31.0330 S   0  0  0  0  0  0  0  0  0  0  0  0\\n   45.2080   13.0480   30.3300 C   0  0  0  0  0  0  0  0  0  0  0  0\\n   46.5170   12.6520   30.2720 C   0  0  0  0  0  0  0  0  0  0  0  0\\n   47.6430   13.2240   30.6340 N   0  0  0  0  0  0  0  0  0  0  0  0\\n   48.6300   12.3630   30.3220 C   0  0  0  0  0  0  0  0  0  0  0  0\\n   48.1340   11.2520   29.7580 N   0  0  0  0  0  0  0  0  0  0  0  0\\n   46.8160   11.3990   29.7150 C   0  0  0  0  0  0  0  0  0  0  0  0\\n   45.8470   10.5960   29.2640 N   0  0  0  0  0  0  0  0  0  0  0  0\\n   44.5940   11.0010   29.3190 C   0  0  0  0  0  0  0  0  0  0  0  0\\n   44.2880   12.1810   29.8280 N   0  0  0  0  0  0  0  0  0  0  0  0\\n  1  2  1  0\\n  2  3  1  0\\n  3  4  2  0\\n  3  8  1  0\\n  4  5  1  0\\n  5  6  2  0\\n  6  7  1  0\\n  7  8  2  0\\n  8  9  1  0\\n  9 10  1  0\\n  9 20  1  0\\n 10 11  2  0\\n 10 12  1  0\\n 12 13  2  0\\n 12 18  1  0\\n 13 14  1  0\\n 13 15  1  0\\n 15 16  2  0\\n 16 17  1  0\\n 17 18  2  0\\n 18 19  1  0\\n 19 20  2  0\\n 20 21  1  0\\n 21 22  1  0\\n 22 23  1  0\\n 23 24  2  0\\n 23 31  1  0\\n 24 25  1  0\\n 24 28  1  0\\n 25 26  2  0\\n 26 27  1  0\\n 27 28  1  0\\n 28 29  2  0\\n 29 30  1  0\\n 30 31  2  0\\nM  END\\n\",\"mol\");\n\tviewer_17303047353742228.addModel(\"\\n     RDKit          3D\\n\\n 25 26  0  0  0  0  0  0  0  0999 V2000\\n   50.9967   16.1764   31.3340 C   0  0  0  0  0  0  0  0  0  0  0  0\\n   49.7778   16.3997   31.9835 O   0  0  0  0  0  0  0  0  0  0  0  0\\n   49.0157   17.5525   31.9104 C   0  0  0  0  0  0  0  0  0  0  0  0\\n   49.4962   18.5844   31.1246 C   0  0  0  0  0  0  0  0  0  0  0  0\\n   48.7650   19.7527   31.0251 C   0  0  0  0  0  0  0  0  0  0  0  0\\n   47.5788   19.8513   31.7135 C   0  0  0  0  0  0  0  0  0  0  0  0\\n   47.0657   18.8522   32.5041 C   0  0  0  0  0  0  0  0  0  0  0  0\\n   47.8036   17.6858   32.5985 C   0  0  0  0  0  0  0  0  0  0  0  0\\n   47.4340   16.5506   33.3642 N   0  0  0  0  0  0  0  0  0  0  0  0\\n   48.0709   16.3407   34.5372 C   0  0  0  0  0  0  0  0  0  0  0  0\\n   47.7486   15.2505   35.3192 C   0  0  0  0  0  0  0  0  0  0  0  0\\n   46.7592   14.4129   34.8356 C   0  0  0  0  0  0  0  0  0  0  0  0\\n   46.3868   13.3910   35.4664 O   0  0  0  0  0  0  0  0  0  0  0  0\\n   46.1639   14.6797   33.6582 N   0  0  0  0  0  0  0  0  0  0  0  0\\n   46.4865   15.7450   32.9049 C   0  0  0  0  0  0  0  0  0  0  0  0\\n   45.6185   15.9995   31.3549 S   0  0  0  0  0  0  0  0  0  0  0  0\\n   44.4063   14.6793   31.0748 C   0  0  0  0  0  0  0  0  0  0  0  0\\n   45.1133   13.3889   30.8609 C   0  0  0  0  0  0  0  0  0  0  0  0\\n   44.4943   12.2960   30.6565 O   0  0  0  0  0  0  0  0  0  0  0  0\\n   46.5425   13.2923   30.8707 N   0  0  0  0  0  0  0  0  0  0  0  0\\n   47.2892   12.0573   30.6674 C   0  0  0  0  0  0  0  0  0  0  0  0\\n   46.9127   11.0551   31.7390 C   0  0  0  0  0  0  0  0  0  0  0  0\\n   48.7589   12.4206   30.7710 C   0  0  0  0  0  0  0  0  0  0  0  0\\n   47.0672   11.4621   29.3042 C   0  0  0  0  0  0  0  0  0  0  0  0\\n   49.0688   17.2048   35.0035 O   0  0  0  0  0  1  0  0  0  0  0  0\\n  1  2  1  0\\n  2  3  1  0\\n  3  4  2  0\\n  4  5  1  0\\n  5  6  2  0\\n  6  7  1  0\\n  7  8  2  0\\n  8  9  1  0\\n  9 10  1  0\\n 10 11  2  0\\n 11 12  1  0\\n 12 13  2  0\\n 12 14  1  0\\n 14 15  2  0\\n 15 16  1  0\\n 16 17  1  0\\n 17 18  1  0\\n 18 19  2  0\\n 18 20  1  0\\n 20 21  1  0\\n 21 22  1  0\\n 21 23  1  0\\n 21 24  1  0\\n 10 25  1  0\\n  8  3  1  0\\n 15  9  1  0\\nM  CHG  1  25  -1\\nM  END\\n\",\"mol\");\n\tviewer_17303047353742228.setStyle({\"model\": 0},{\"stick\": {\"colorscheme\": \"greenCarbon\"}});\n\tviewer_17303047353742228.setStyle({\"model\": 1},{\"stick\": {\"colorscheme\": \"WhiteCarbon\"}});\n\tviewer_17303047353742228.zoomTo();\nviewer_17303047353742228.render();\n});\n</script>",
            "text/html": [
              "<div id=\"3dmolviewer_17303047353742228\"  style=\"position: relative; width: 640px; height: 480px;\">\n",
              "        <p id=\"3dmolwarning_17303047353742228\" style=\"background-color:#ffcccc;color:black\">3Dmol.js failed to load for some reason.  Please check your browser console for error messages.<br></p>\n",
              "        </div>\n",
              "<script>\n",
              "\n",
              "var loadScriptAsync = function(uri){\n",
              "  return new Promise((resolve, reject) => {\n",
              "    //this is to ignore the existence of requirejs amd\n",
              "    var savedexports, savedmodule;\n",
              "    if (typeof exports !== 'undefined') savedexports = exports;\n",
              "    else exports = {}\n",
              "    if (typeof module !== 'undefined') savedmodule = module;\n",
              "    else module = {}\n",
              "\n",
              "    var tag = document.createElement('script');\n",
              "    tag.src = uri;\n",
              "    tag.async = true;\n",
              "    tag.onload = () => {\n",
              "        exports = savedexports;\n",
              "        module = savedmodule;\n",
              "        resolve();\n",
              "    };\n",
              "  var firstScriptTag = document.getElementsByTagName('script')[0];\n",
              "  firstScriptTag.parentNode.insertBefore(tag, firstScriptTag);\n",
              "});\n",
              "};\n",
              "\n",
              "if(typeof $3Dmolpromise === 'undefined') {\n",
              "$3Dmolpromise = null;\n",
              "  $3Dmolpromise = loadScriptAsync('https://cdnjs.cloudflare.com/ajax/libs/3Dmol/2.4.0/3Dmol-min.js');\n",
              "}\n",
              "\n",
              "var viewer_17303047353742228 = null;\n",
              "var warn = document.getElementById(\"3dmolwarning_17303047353742228\");\n",
              "if(warn) {\n",
              "    warn.parentNode.removeChild(warn);\n",
              "}\n",
              "$3Dmolpromise.then(function() {\n",
              "viewer_17303047353742228 = $3Dmol.createViewer(document.getElementById(\"3dmolviewer_17303047353742228\"),{backgroundColor:\"white\"});\n",
              "viewer_17303047353742228.zoomTo();\n",
              "\tviewer_17303047353742228.addModel(\"2CHW_ligand2\\n     RDKit          3D\\n\\n 31 35  0  0  1  0  0  0  0  0999 V2000\\n   50.8990   16.3190   31.0490 C   0  0  0  0  0  0  0  0  0  0  0  0\\n   49.8180   16.4300   31.9910 O   0  0  0  0  0  0  0  0  0  0  0  0\\n   49.0900   17.5720   31.8950 C   0  0  0  0  0  0  0  0  0  0  0  0\\n   49.4830   18.6530   31.1140 C   0  0  0  0  0  0  0  0  0  0  0  0\\n   48.6960   19.8030   31.0690 C   0  0  0  0  0  0  0  0  0  0  0  0\\n   47.5060   19.8780   31.8010 C   0  0  0  0  0  0  0  0  0  0  0  0\\n   47.1210   18.7960   32.5900 C   0  0  0  0  0  0  0  0  0  0  0  0\\n   47.9120   17.6500   32.6170 C   0  0  0  0  0  0  0  0  0  0  0  0\\n   47.4980   16.5900   33.4170 N   0  0  0  0  0  0  0  0  0  0  0  0\\n   48.0760   16.4810   34.6750 C   0  0  0  0  0  0  0  0  0  0  0  0\\n   48.9180   17.3100   34.9960 O   0  0  0  0  0  0  0  0  0  0  0  0\\n   47.6950   15.4550   35.5310 C   0  0  0  0  0  0  0  0  0  0  0  0\\n   48.2370   15.2870   36.8230 C   0  0  0  0  0  0  0  0  0  0  0  0\\n   49.4490   16.3440   37.5170 Cl  0  0  0  0  0  0  0  0  0  0  0  0\\n   47.7970   14.2260   37.6120 C   0  0  0  0  0  0  0  0  0  0  0  0\\n   46.8480   13.3370   37.1520 C   0  0  0  0  0  0  0  0  0  0  0  0\\n   46.3170   13.5250   35.8880 C   0  0  0  0  0  0  0  0  0  0  0  0\\n   46.7300   14.5650   35.0630 C   0  0  0  0  0  0  0  0  0  0  0  0\\n   46.1850   14.6820   33.8300 N   0  0  0  0  0  0  0  0  0  0  0  0\\n   46.5280   15.6630   32.9870 C   0  0  0  0  0  0  0  0  0  0  0  0\\n   45.9320   15.7890   31.5640 C   0  0  0  0  0  0  0  0  0  0  0  0\\n   44.6330   14.5990   31.0330 S   0  0  0  0  0  0  0  0  0  0  0  0\\n   45.2080   13.0480   30.3300 C   0  0  0  0  0  0  0  0  0  0  0  0\\n   46.5170   12.6520   30.2720 C   0  0  0  0  0  0  0  0  0  0  0  0\\n   47.6430   13.2240   30.6340 N   0  0  0  0  0  0  0  0  0  0  0  0\\n   48.6300   12.3630   30.3220 C   0  0  0  0  0  0  0  0  0  0  0  0\\n   48.1340   11.2520   29.7580 N   0  0  0  0  0  0  0  0  0  0  0  0\\n   46.8160   11.3990   29.7150 C   0  0  0  0  0  0  0  0  0  0  0  0\\n   45.8470   10.5960   29.2640 N   0  0  0  0  0  0  0  0  0  0  0  0\\n   44.5940   11.0010   29.3190 C   0  0  0  0  0  0  0  0  0  0  0  0\\n   44.2880   12.1810   29.8280 N   0  0  0  0  0  0  0  0  0  0  0  0\\n  1  2  1  0\\n  2  3  1  0\\n  3  4  2  0\\n  3  8  1  0\\n  4  5  1  0\\n  5  6  2  0\\n  6  7  1  0\\n  7  8  2  0\\n  8  9  1  0\\n  9 10  1  0\\n  9 20  1  0\\n 10 11  2  0\\n 10 12  1  0\\n 12 13  2  0\\n 12 18  1  0\\n 13 14  1  0\\n 13 15  1  0\\n 15 16  2  0\\n 16 17  1  0\\n 17 18  2  0\\n 18 19  1  0\\n 19 20  2  0\\n 20 21  1  0\\n 21 22  1  0\\n 22 23  1  0\\n 23 24  2  0\\n 23 31  1  0\\n 24 25  1  0\\n 24 28  1  0\\n 25 26  2  0\\n 26 27  1  0\\n 27 28  1  0\\n 28 29  2  0\\n 29 30  1  0\\n 30 31  2  0\\nM  END\\n\",\"mol\");\n",
              "\tviewer_17303047353742228.addModel(\"\\n     RDKit          3D\\n\\n 25 26  0  0  0  0  0  0  0  0999 V2000\\n   50.9967   16.1764   31.3340 C   0  0  0  0  0  0  0  0  0  0  0  0\\n   49.7778   16.3997   31.9835 O   0  0  0  0  0  0  0  0  0  0  0  0\\n   49.0157   17.5525   31.9104 C   0  0  0  0  0  0  0  0  0  0  0  0\\n   49.4962   18.5844   31.1246 C   0  0  0  0  0  0  0  0  0  0  0  0\\n   48.7650   19.7527   31.0251 C   0  0  0  0  0  0  0  0  0  0  0  0\\n   47.5788   19.8513   31.7135 C   0  0  0  0  0  0  0  0  0  0  0  0\\n   47.0657   18.8522   32.5041 C   0  0  0  0  0  0  0  0  0  0  0  0\\n   47.8036   17.6858   32.5985 C   0  0  0  0  0  0  0  0  0  0  0  0\\n   47.4340   16.5506   33.3642 N   0  0  0  0  0  0  0  0  0  0  0  0\\n   48.0709   16.3407   34.5372 C   0  0  0  0  0  0  0  0  0  0  0  0\\n   47.7486   15.2505   35.3192 C   0  0  0  0  0  0  0  0  0  0  0  0\\n   46.7592   14.4129   34.8356 C   0  0  0  0  0  0  0  0  0  0  0  0\\n   46.3868   13.3910   35.4664 O   0  0  0  0  0  0  0  0  0  0  0  0\\n   46.1639   14.6797   33.6582 N   0  0  0  0  0  0  0  0  0  0  0  0\\n   46.4865   15.7450   32.9049 C   0  0  0  0  0  0  0  0  0  0  0  0\\n   45.6185   15.9995   31.3549 S   0  0  0  0  0  0  0  0  0  0  0  0\\n   44.4063   14.6793   31.0748 C   0  0  0  0  0  0  0  0  0  0  0  0\\n   45.1133   13.3889   30.8609 C   0  0  0  0  0  0  0  0  0  0  0  0\\n   44.4943   12.2960   30.6565 O   0  0  0  0  0  0  0  0  0  0  0  0\\n   46.5425   13.2923   30.8707 N   0  0  0  0  0  0  0  0  0  0  0  0\\n   47.2892   12.0573   30.6674 C   0  0  0  0  0  0  0  0  0  0  0  0\\n   46.9127   11.0551   31.7390 C   0  0  0  0  0  0  0  0  0  0  0  0\\n   48.7589   12.4206   30.7710 C   0  0  0  0  0  0  0  0  0  0  0  0\\n   47.0672   11.4621   29.3042 C   0  0  0  0  0  0  0  0  0  0  0  0\\n   49.0688   17.2048   35.0035 O   0  0  0  0  0  1  0  0  0  0  0  0\\n  1  2  1  0\\n  2  3  1  0\\n  3  4  2  0\\n  4  5  1  0\\n  5  6  2  0\\n  6  7  1  0\\n  7  8  2  0\\n  8  9  1  0\\n  9 10  1  0\\n 10 11  2  0\\n 11 12  1  0\\n 12 13  2  0\\n 12 14  1  0\\n 14 15  2  0\\n 15 16  1  0\\n 16 17  1  0\\n 17 18  1  0\\n 18 19  2  0\\n 18 20  1  0\\n 20 21  1  0\\n 21 22  1  0\\n 21 23  1  0\\n 21 24  1  0\\n 10 25  1  0\\n  8  3  1  0\\n 15  9  1  0\\nM  CHG  1  25  -1\\nM  END\\n\",\"mol\");\n",
              "\tviewer_17303047353742228.setStyle({\"model\": 0},{\"stick\": {\"colorscheme\": \"greenCarbon\"}});\n",
              "\tviewer_17303047353742228.setStyle({\"model\": 1},{\"stick\": {\"colorscheme\": \"WhiteCarbon\"}});\n",
              "\tviewer_17303047353742228.zoomTo();\n",
              "viewer_17303047353742228.render();\n",
              "});\n",
              "</script>"
            ]
          },
          "metadata": {}
        }
      ],
      "source": [
        "# read the the query molecule\n",
        "query_mol = Chem.MolFromMolFile(\"data/2chw_lig.sdf\")\n",
        "# get the highest scoring molecule from combo_df\n",
        "db_mol = combo_df.sort_values(\"score\",ascending=False).shape_res.values[0].best_mol\n",
        "db_mol = Chem.RemoveHs(db_mol)\n",
        "# For Py3DMol, we need to convert molecules to molblocks\n",
        "query_mblock = Chem.MolToMolBlock(query_mol)\n",
        "db_mblock = Chem.MolToMolBlock(db_mol)\n",
        "# create a Py3DMol view\n",
        "view = py3Dmol.view()\n",
        "# add the molecules\n",
        "view.addModel(query_mblock, 'mol')\n",
        "view.addModel(db_mblock, 'mol')\n",
        "# color the molecules\n",
        "view.setStyle({'model': 0},{'stick':{'colorscheme':'greenCarbon'}})\n",
        "view.setStyle({'model': 1},{'stick':{'colorscheme':'WhiteCarbon'}})\n",
        "# Zoom in and show the molecules\n",
        "view.zoomTo()\n",
        "view.show()"
      ]
    },
    {
      "cell_type": "code",
      "execution_count": null,
      "id": "695f830f",
      "metadata": {
        "id": "695f830f"
      },
      "outputs": [],
      "source": []
    },
    {
      "cell_type": "code",
      "execution_count": null,
      "id": "917dd9c5",
      "metadata": {
        "pycharm": {
          "name": "#%%\n"
        },
        "id": "917dd9c5"
      },
      "outputs": [],
      "source": []
    }
  ],
  "metadata": {
    "kernelspec": {
      "display_name": "Python 3 (ipykernel)",
      "language": "python",
      "name": "python3"
    },
    "language_info": {
      "codemirror_mode": {
        "name": "ipython",
        "version": 3
      },
      "file_extension": ".py",
      "mimetype": "text/x-python",
      "name": "python",
      "nbconvert_exporter": "python",
      "pygments_lexer": "ipython3",
      "version": "3.12.2"
    },
    "colab": {
      "provenance": [],
      "include_colab_link": true
    },
    "widgets": {
      "application/vnd.jupyter.widget-state+json": {
        "c69b4ae3817244a39562ef3570bebeb6": {
          "model_module": "@jupyter-widgets/controls",
          "model_name": "HBoxModel",
          "model_module_version": "1.5.0",
          "state": {
            "_dom_classes": [],
            "_model_module": "@jupyter-widgets/controls",
            "_model_module_version": "1.5.0",
            "_model_name": "HBoxModel",
            "_view_count": null,
            "_view_module": "@jupyter-widgets/controls",
            "_view_module_version": "1.5.0",
            "_view_name": "HBoxView",
            "box_style": "",
            "children": [
              "IPY_MODEL_45f62921603b4d95af8bd0b52883da99",
              "IPY_MODEL_ec23c974c9414040a27df6cb592bad1f",
              "IPY_MODEL_fdf099fff2c34627a6ba1f42e50d0a3d"
            ],
            "layout": "IPY_MODEL_9831ef68b80d46d7a9ab36dcc063220f"
          }
        },
        "45f62921603b4d95af8bd0b52883da99": {
          "model_module": "@jupyter-widgets/controls",
          "model_name": "HTMLModel",
          "model_module_version": "1.5.0",
          "state": {
            "_dom_classes": [],
            "_model_module": "@jupyter-widgets/controls",
            "_model_module_version": "1.5.0",
            "_model_name": "HTMLModel",
            "_view_count": null,
            "_view_module": "@jupyter-widgets/controls",
            "_view_module_version": "1.5.0",
            "_view_name": "HTMLView",
            "description": "",
            "description_tooltip": null,
            "layout": "IPY_MODEL_460115d858554a06b0450f5559a8d81e",
            "placeholder": "​",
            "style": "IPY_MODEL_de881989c9514442a459269fbee04da9",
            "value": "100%"
          }
        },
        "ec23c974c9414040a27df6cb592bad1f": {
          "model_module": "@jupyter-widgets/controls",
          "model_name": "FloatProgressModel",
          "model_module_version": "1.5.0",
          "state": {
            "_dom_classes": [],
            "_model_module": "@jupyter-widgets/controls",
            "_model_module_version": "1.5.0",
            "_model_name": "FloatProgressModel",
            "_view_count": null,
            "_view_module": "@jupyter-widgets/controls",
            "_view_module_version": "1.5.0",
            "_view_name": "ProgressView",
            "bar_style": "success",
            "description": "",
            "description_tooltip": null,
            "layout": "IPY_MODEL_22a5a27b1aed4ee49abef5bde3889386",
            "max": 62937,
            "min": 0,
            "orientation": "horizontal",
            "style": "IPY_MODEL_5b312c5ea6a74b1498e43fdda3be4888",
            "value": 62937
          }
        },
        "fdf099fff2c34627a6ba1f42e50d0a3d": {
          "model_module": "@jupyter-widgets/controls",
          "model_name": "HTMLModel",
          "model_module_version": "1.5.0",
          "state": {
            "_dom_classes": [],
            "_model_module": "@jupyter-widgets/controls",
            "_model_module_version": "1.5.0",
            "_model_name": "HTMLModel",
            "_view_count": null,
            "_view_module": "@jupyter-widgets/controls",
            "_view_module_version": "1.5.0",
            "_view_name": "HTMLView",
            "description": "",
            "description_tooltip": null,
            "layout": "IPY_MODEL_33a3cc4244ee4d349986f5b81ae5405b",
            "placeholder": "​",
            "style": "IPY_MODEL_105f7d8113cd4f3e95734a495778aaf7",
            "value": " 62937/62937 [00:30&lt;00:00, 2384.35it/s]"
          }
        },
        "9831ef68b80d46d7a9ab36dcc063220f": {
          "model_module": "@jupyter-widgets/base",
          "model_name": "LayoutModel",
          "model_module_version": "1.2.0",
          "state": {
            "_model_module": "@jupyter-widgets/base",
            "_model_module_version": "1.2.0",
            "_model_name": "LayoutModel",
            "_view_count": null,
            "_view_module": "@jupyter-widgets/base",
            "_view_module_version": "1.2.0",
            "_view_name": "LayoutView",
            "align_content": null,
            "align_items": null,
            "align_self": null,
            "border": null,
            "bottom": null,
            "display": null,
            "flex": null,
            "flex_flow": null,
            "grid_area": null,
            "grid_auto_columns": null,
            "grid_auto_flow": null,
            "grid_auto_rows": null,
            "grid_column": null,
            "grid_gap": null,
            "grid_row": null,
            "grid_template_areas": null,
            "grid_template_columns": null,
            "grid_template_rows": null,
            "height": null,
            "justify_content": null,
            "justify_items": null,
            "left": null,
            "margin": null,
            "max_height": null,
            "max_width": null,
            "min_height": null,
            "min_width": null,
            "object_fit": null,
            "object_position": null,
            "order": null,
            "overflow": null,
            "overflow_x": null,
            "overflow_y": null,
            "padding": null,
            "right": null,
            "top": null,
            "visibility": null,
            "width": null
          }
        },
        "460115d858554a06b0450f5559a8d81e": {
          "model_module": "@jupyter-widgets/base",
          "model_name": "LayoutModel",
          "model_module_version": "1.2.0",
          "state": {
            "_model_module": "@jupyter-widgets/base",
            "_model_module_version": "1.2.0",
            "_model_name": "LayoutModel",
            "_view_count": null,
            "_view_module": "@jupyter-widgets/base",
            "_view_module_version": "1.2.0",
            "_view_name": "LayoutView",
            "align_content": null,
            "align_items": null,
            "align_self": null,
            "border": null,
            "bottom": null,
            "display": null,
            "flex": null,
            "flex_flow": null,
            "grid_area": null,
            "grid_auto_columns": null,
            "grid_auto_flow": null,
            "grid_auto_rows": null,
            "grid_column": null,
            "grid_gap": null,
            "grid_row": null,
            "grid_template_areas": null,
            "grid_template_columns": null,
            "grid_template_rows": null,
            "height": null,
            "justify_content": null,
            "justify_items": null,
            "left": null,
            "margin": null,
            "max_height": null,
            "max_width": null,
            "min_height": null,
            "min_width": null,
            "object_fit": null,
            "object_position": null,
            "order": null,
            "overflow": null,
            "overflow_x": null,
            "overflow_y": null,
            "padding": null,
            "right": null,
            "top": null,
            "visibility": null,
            "width": null
          }
        },
        "de881989c9514442a459269fbee04da9": {
          "model_module": "@jupyter-widgets/controls",
          "model_name": "DescriptionStyleModel",
          "model_module_version": "1.5.0",
          "state": {
            "_model_module": "@jupyter-widgets/controls",
            "_model_module_version": "1.5.0",
            "_model_name": "DescriptionStyleModel",
            "_view_count": null,
            "_view_module": "@jupyter-widgets/base",
            "_view_module_version": "1.2.0",
            "_view_name": "StyleView",
            "description_width": ""
          }
        },
        "22a5a27b1aed4ee49abef5bde3889386": {
          "model_module": "@jupyter-widgets/base",
          "model_name": "LayoutModel",
          "model_module_version": "1.2.0",
          "state": {
            "_model_module": "@jupyter-widgets/base",
            "_model_module_version": "1.2.0",
            "_model_name": "LayoutModel",
            "_view_count": null,
            "_view_module": "@jupyter-widgets/base",
            "_view_module_version": "1.2.0",
            "_view_name": "LayoutView",
            "align_content": null,
            "align_items": null,
            "align_self": null,
            "border": null,
            "bottom": null,
            "display": null,
            "flex": null,
            "flex_flow": null,
            "grid_area": null,
            "grid_auto_columns": null,
            "grid_auto_flow": null,
            "grid_auto_rows": null,
            "grid_column": null,
            "grid_gap": null,
            "grid_row": null,
            "grid_template_areas": null,
            "grid_template_columns": null,
            "grid_template_rows": null,
            "height": null,
            "justify_content": null,
            "justify_items": null,
            "left": null,
            "margin": null,
            "max_height": null,
            "max_width": null,
            "min_height": null,
            "min_width": null,
            "object_fit": null,
            "object_position": null,
            "order": null,
            "overflow": null,
            "overflow_x": null,
            "overflow_y": null,
            "padding": null,
            "right": null,
            "top": null,
            "visibility": null,
            "width": null
          }
        },
        "5b312c5ea6a74b1498e43fdda3be4888": {
          "model_module": "@jupyter-widgets/controls",
          "model_name": "ProgressStyleModel",
          "model_module_version": "1.5.0",
          "state": {
            "_model_module": "@jupyter-widgets/controls",
            "_model_module_version": "1.5.0",
            "_model_name": "ProgressStyleModel",
            "_view_count": null,
            "_view_module": "@jupyter-widgets/base",
            "_view_module_version": "1.2.0",
            "_view_name": "StyleView",
            "bar_color": null,
            "description_width": ""
          }
        },
        "33a3cc4244ee4d349986f5b81ae5405b": {
          "model_module": "@jupyter-widgets/base",
          "model_name": "LayoutModel",
          "model_module_version": "1.2.0",
          "state": {
            "_model_module": "@jupyter-widgets/base",
            "_model_module_version": "1.2.0",
            "_model_name": "LayoutModel",
            "_view_count": null,
            "_view_module": "@jupyter-widgets/base",
            "_view_module_version": "1.2.0",
            "_view_name": "LayoutView",
            "align_content": null,
            "align_items": null,
            "align_self": null,
            "border": null,
            "bottom": null,
            "display": null,
            "flex": null,
            "flex_flow": null,
            "grid_area": null,
            "grid_auto_columns": null,
            "grid_auto_flow": null,
            "grid_auto_rows": null,
            "grid_column": null,
            "grid_gap": null,
            "grid_row": null,
            "grid_template_areas": null,
            "grid_template_columns": null,
            "grid_template_rows": null,
            "height": null,
            "justify_content": null,
            "justify_items": null,
            "left": null,
            "margin": null,
            "max_height": null,
            "max_width": null,
            "min_height": null,
            "min_width": null,
            "object_fit": null,
            "object_position": null,
            "order": null,
            "overflow": null,
            "overflow_x": null,
            "overflow_y": null,
            "padding": null,
            "right": null,
            "top": null,
            "visibility": null,
            "width": null
          }
        },
        "105f7d8113cd4f3e95734a495778aaf7": {
          "model_module": "@jupyter-widgets/controls",
          "model_name": "DescriptionStyleModel",
          "model_module_version": "1.5.0",
          "state": {
            "_model_module": "@jupyter-widgets/controls",
            "_model_module_version": "1.5.0",
            "_model_name": "DescriptionStyleModel",
            "_view_count": null,
            "_view_module": "@jupyter-widgets/base",
            "_view_module_version": "1.2.0",
            "_view_name": "StyleView",
            "description_width": ""
          }
        },
        "7e435090f84d45489f65bfa909dc460d": {
          "model_module": "@jupyter-widgets/controls",
          "model_name": "HBoxModel",
          "model_module_version": "1.5.0",
          "state": {
            "_dom_classes": [],
            "_model_module": "@jupyter-widgets/controls",
            "_model_module_version": "1.5.0",
            "_model_name": "HBoxModel",
            "_view_count": null,
            "_view_module": "@jupyter-widgets/controls",
            "_view_module_version": "1.5.0",
            "_view_name": "HBoxView",
            "box_style": "",
            "children": [
              "IPY_MODEL_5bf4e6d2d7ad4132a42da2629b5333ab",
              "IPY_MODEL_90db608e932c407396b3b76248aabe56",
              "IPY_MODEL_483e57eb431949ac8d4bdf5b22b04145"
            ],
            "layout": "IPY_MODEL_390494be3f6a4d529b41e8d4783fb895"
          }
        },
        "5bf4e6d2d7ad4132a42da2629b5333ab": {
          "model_module": "@jupyter-widgets/controls",
          "model_name": "HTMLModel",
          "model_module_version": "1.5.0",
          "state": {
            "_dom_classes": [],
            "_model_module": "@jupyter-widgets/controls",
            "_model_module_version": "1.5.0",
            "_model_name": "HTMLModel",
            "_view_count": null,
            "_view_module": "@jupyter-widgets/controls",
            "_view_module_version": "1.5.0",
            "_view_name": "HTMLView",
            "description": "",
            "description_tooltip": null,
            "layout": "IPY_MODEL_507551b7da1849d7891c05fbd6bb1810",
            "placeholder": "​",
            "style": "IPY_MODEL_b4156dd75f054b06a4f143bc4b4c181d",
            "value": "100%"
          }
        },
        "90db608e932c407396b3b76248aabe56": {
          "model_module": "@jupyter-widgets/controls",
          "model_name": "FloatProgressModel",
          "model_module_version": "1.5.0",
          "state": {
            "_dom_classes": [],
            "_model_module": "@jupyter-widgets/controls",
            "_model_module_version": "1.5.0",
            "_model_name": "FloatProgressModel",
            "_view_count": null,
            "_view_module": "@jupyter-widgets/controls",
            "_view_module_version": "1.5.0",
            "_view_name": "ProgressView",
            "bar_style": "success",
            "description": "",
            "description_tooltip": null,
            "layout": "IPY_MODEL_99c399607afd49df98aa06107e746fb2",
            "max": 100,
            "min": 0,
            "orientation": "horizontal",
            "style": "IPY_MODEL_3137f9f8224345ad8f53f9e072436d5c",
            "value": 100
          }
        },
        "483e57eb431949ac8d4bdf5b22b04145": {
          "model_module": "@jupyter-widgets/controls",
          "model_name": "HTMLModel",
          "model_module_version": "1.5.0",
          "state": {
            "_dom_classes": [],
            "_model_module": "@jupyter-widgets/controls",
            "_model_module_version": "1.5.0",
            "_model_name": "HTMLModel",
            "_view_count": null,
            "_view_module": "@jupyter-widgets/controls",
            "_view_module_version": "1.5.0",
            "_view_name": "HTMLView",
            "description": "",
            "description_tooltip": null,
            "layout": "IPY_MODEL_162e8c764305458ba0a8e3146393bdc2",
            "placeholder": "​",
            "style": "IPY_MODEL_269efab87bbe4793aec0f8c649f0582c",
            "value": " 100/100 [02:55&lt;00:00,  1.38s/it]"
          }
        },
        "390494be3f6a4d529b41e8d4783fb895": {
          "model_module": "@jupyter-widgets/base",
          "model_name": "LayoutModel",
          "model_module_version": "1.2.0",
          "state": {
            "_model_module": "@jupyter-widgets/base",
            "_model_module_version": "1.2.0",
            "_model_name": "LayoutModel",
            "_view_count": null,
            "_view_module": "@jupyter-widgets/base",
            "_view_module_version": "1.2.0",
            "_view_name": "LayoutView",
            "align_content": null,
            "align_items": null,
            "align_self": null,
            "border": null,
            "bottom": null,
            "display": null,
            "flex": null,
            "flex_flow": null,
            "grid_area": null,
            "grid_auto_columns": null,
            "grid_auto_flow": null,
            "grid_auto_rows": null,
            "grid_column": null,
            "grid_gap": null,
            "grid_row": null,
            "grid_template_areas": null,
            "grid_template_columns": null,
            "grid_template_rows": null,
            "height": null,
            "justify_content": null,
            "justify_items": null,
            "left": null,
            "margin": null,
            "max_height": null,
            "max_width": null,
            "min_height": null,
            "min_width": null,
            "object_fit": null,
            "object_position": null,
            "order": null,
            "overflow": null,
            "overflow_x": null,
            "overflow_y": null,
            "padding": null,
            "right": null,
            "top": null,
            "visibility": null,
            "width": null
          }
        },
        "507551b7da1849d7891c05fbd6bb1810": {
          "model_module": "@jupyter-widgets/base",
          "model_name": "LayoutModel",
          "model_module_version": "1.2.0",
          "state": {
            "_model_module": "@jupyter-widgets/base",
            "_model_module_version": "1.2.0",
            "_model_name": "LayoutModel",
            "_view_count": null,
            "_view_module": "@jupyter-widgets/base",
            "_view_module_version": "1.2.0",
            "_view_name": "LayoutView",
            "align_content": null,
            "align_items": null,
            "align_self": null,
            "border": null,
            "bottom": null,
            "display": null,
            "flex": null,
            "flex_flow": null,
            "grid_area": null,
            "grid_auto_columns": null,
            "grid_auto_flow": null,
            "grid_auto_rows": null,
            "grid_column": null,
            "grid_gap": null,
            "grid_row": null,
            "grid_template_areas": null,
            "grid_template_columns": null,
            "grid_template_rows": null,
            "height": null,
            "justify_content": null,
            "justify_items": null,
            "left": null,
            "margin": null,
            "max_height": null,
            "max_width": null,
            "min_height": null,
            "min_width": null,
            "object_fit": null,
            "object_position": null,
            "order": null,
            "overflow": null,
            "overflow_x": null,
            "overflow_y": null,
            "padding": null,
            "right": null,
            "top": null,
            "visibility": null,
            "width": null
          }
        },
        "b4156dd75f054b06a4f143bc4b4c181d": {
          "model_module": "@jupyter-widgets/controls",
          "model_name": "DescriptionStyleModel",
          "model_module_version": "1.5.0",
          "state": {
            "_model_module": "@jupyter-widgets/controls",
            "_model_module_version": "1.5.0",
            "_model_name": "DescriptionStyleModel",
            "_view_count": null,
            "_view_module": "@jupyter-widgets/base",
            "_view_module_version": "1.2.0",
            "_view_name": "StyleView",
            "description_width": ""
          }
        },
        "99c399607afd49df98aa06107e746fb2": {
          "model_module": "@jupyter-widgets/base",
          "model_name": "LayoutModel",
          "model_module_version": "1.2.0",
          "state": {
            "_model_module": "@jupyter-widgets/base",
            "_model_module_version": "1.2.0",
            "_model_name": "LayoutModel",
            "_view_count": null,
            "_view_module": "@jupyter-widgets/base",
            "_view_module_version": "1.2.0",
            "_view_name": "LayoutView",
            "align_content": null,
            "align_items": null,
            "align_self": null,
            "border": null,
            "bottom": null,
            "display": null,
            "flex": null,
            "flex_flow": null,
            "grid_area": null,
            "grid_auto_columns": null,
            "grid_auto_flow": null,
            "grid_auto_rows": null,
            "grid_column": null,
            "grid_gap": null,
            "grid_row": null,
            "grid_template_areas": null,
            "grid_template_columns": null,
            "grid_template_rows": null,
            "height": null,
            "justify_content": null,
            "justify_items": null,
            "left": null,
            "margin": null,
            "max_height": null,
            "max_width": null,
            "min_height": null,
            "min_width": null,
            "object_fit": null,
            "object_position": null,
            "order": null,
            "overflow": null,
            "overflow_x": null,
            "overflow_y": null,
            "padding": null,
            "right": null,
            "top": null,
            "visibility": null,
            "width": null
          }
        },
        "3137f9f8224345ad8f53f9e072436d5c": {
          "model_module": "@jupyter-widgets/controls",
          "model_name": "ProgressStyleModel",
          "model_module_version": "1.5.0",
          "state": {
            "_model_module": "@jupyter-widgets/controls",
            "_model_module_version": "1.5.0",
            "_model_name": "ProgressStyleModel",
            "_view_count": null,
            "_view_module": "@jupyter-widgets/base",
            "_view_module_version": "1.2.0",
            "_view_name": "StyleView",
            "bar_color": null,
            "description_width": ""
          }
        },
        "162e8c764305458ba0a8e3146393bdc2": {
          "model_module": "@jupyter-widgets/base",
          "model_name": "LayoutModel",
          "model_module_version": "1.2.0",
          "state": {
            "_model_module": "@jupyter-widgets/base",
            "_model_module_version": "1.2.0",
            "_model_name": "LayoutModel",
            "_view_count": null,
            "_view_module": "@jupyter-widgets/base",
            "_view_module_version": "1.2.0",
            "_view_name": "LayoutView",
            "align_content": null,
            "align_items": null,
            "align_self": null,
            "border": null,
            "bottom": null,
            "display": null,
            "flex": null,
            "flex_flow": null,
            "grid_area": null,
            "grid_auto_columns": null,
            "grid_auto_flow": null,
            "grid_auto_rows": null,
            "grid_column": null,
            "grid_gap": null,
            "grid_row": null,
            "grid_template_areas": null,
            "grid_template_columns": null,
            "grid_template_rows": null,
            "height": null,
            "justify_content": null,
            "justify_items": null,
            "left": null,
            "margin": null,
            "max_height": null,
            "max_width": null,
            "min_height": null,
            "min_width": null,
            "object_fit": null,
            "object_position": null,
            "order": null,
            "overflow": null,
            "overflow_x": null,
            "overflow_y": null,
            "padding": null,
            "right": null,
            "top": null,
            "visibility": null,
            "width": null
          }
        },
        "269efab87bbe4793aec0f8c649f0582c": {
          "model_module": "@jupyter-widgets/controls",
          "model_name": "DescriptionStyleModel",
          "model_module_version": "1.5.0",
          "state": {
            "_model_module": "@jupyter-widgets/controls",
            "_model_module_version": "1.5.0",
            "_model_name": "DescriptionStyleModel",
            "_view_count": null,
            "_view_module": "@jupyter-widgets/base",
            "_view_module_version": "1.2.0",
            "_view_name": "StyleView",
            "description_width": ""
          }
        },
        "6b1bb826bc224b3fb404f71a1250d170": {
          "model_module": "@jupyter-widgets/controls",
          "model_name": "HBoxModel",
          "model_module_version": "1.5.0",
          "state": {
            "_dom_classes": [],
            "_model_module": "@jupyter-widgets/controls",
            "_model_module_version": "1.5.0",
            "_model_name": "HBoxModel",
            "_view_count": null,
            "_view_module": "@jupyter-widgets/controls",
            "_view_module_version": "1.5.0",
            "_view_name": "HBoxView",
            "box_style": "",
            "children": [
              "IPY_MODEL_972ed04a961b45339902223a970492d5",
              "IPY_MODEL_981bb844aadc492e9ae8d61ccd5fdea9",
              "IPY_MODEL_adf891bc4c2f4c278780a3735e76e6ce"
            ],
            "layout": "IPY_MODEL_fa802f582968459daa5992acf382fd37"
          }
        },
        "972ed04a961b45339902223a970492d5": {
          "model_module": "@jupyter-widgets/controls",
          "model_name": "HTMLModel",
          "model_module_version": "1.5.0",
          "state": {
            "_dom_classes": [],
            "_model_module": "@jupyter-widgets/controls",
            "_model_module_version": "1.5.0",
            "_model_name": "HTMLModel",
            "_view_count": null,
            "_view_module": "@jupyter-widgets/controls",
            "_view_module_version": "1.5.0",
            "_view_name": "HTMLView",
            "description": "",
            "description_tooltip": null,
            "layout": "IPY_MODEL_7ce7b252dc83473e9dfda9c25d3b28f7",
            "placeholder": "​",
            "style": "IPY_MODEL_b80f3efe7dae4b14bf35736fd6ea12e8",
            "value": "100%"
          }
        },
        "981bb844aadc492e9ae8d61ccd5fdea9": {
          "model_module": "@jupyter-widgets/controls",
          "model_name": "FloatProgressModel",
          "model_module_version": "1.5.0",
          "state": {
            "_dom_classes": [],
            "_model_module": "@jupyter-widgets/controls",
            "_model_module_version": "1.5.0",
            "_model_name": "FloatProgressModel",
            "_view_count": null,
            "_view_module": "@jupyter-widgets/controls",
            "_view_module_version": "1.5.0",
            "_view_name": "ProgressView",
            "bar_style": "success",
            "description": "",
            "description_tooltip": null,
            "layout": "IPY_MODEL_013b109f02104beca99bda5d62f5f2b7",
            "max": 100,
            "min": 0,
            "orientation": "horizontal",
            "style": "IPY_MODEL_8d6cdab3db24419cb9f6673428d9e20a",
            "value": 100
          }
        },
        "adf891bc4c2f4c278780a3735e76e6ce": {
          "model_module": "@jupyter-widgets/controls",
          "model_name": "HTMLModel",
          "model_module_version": "1.5.0",
          "state": {
            "_dom_classes": [],
            "_model_module": "@jupyter-widgets/controls",
            "_model_module_version": "1.5.0",
            "_model_name": "HTMLModel",
            "_view_count": null,
            "_view_module": "@jupyter-widgets/controls",
            "_view_module_version": "1.5.0",
            "_view_name": "HTMLView",
            "description": "",
            "description_tooltip": null,
            "layout": "IPY_MODEL_114658639a4e4b79a1da45b04b70feab",
            "placeholder": "​",
            "style": "IPY_MODEL_b712c9964db24c0693cddf339601e688",
            "value": " 100/100 [01:05&lt;00:00,  1.95it/s]"
          }
        },
        "fa802f582968459daa5992acf382fd37": {
          "model_module": "@jupyter-widgets/base",
          "model_name": "LayoutModel",
          "model_module_version": "1.2.0",
          "state": {
            "_model_module": "@jupyter-widgets/base",
            "_model_module_version": "1.2.0",
            "_model_name": "LayoutModel",
            "_view_count": null,
            "_view_module": "@jupyter-widgets/base",
            "_view_module_version": "1.2.0",
            "_view_name": "LayoutView",
            "align_content": null,
            "align_items": null,
            "align_self": null,
            "border": null,
            "bottom": null,
            "display": null,
            "flex": null,
            "flex_flow": null,
            "grid_area": null,
            "grid_auto_columns": null,
            "grid_auto_flow": null,
            "grid_auto_rows": null,
            "grid_column": null,
            "grid_gap": null,
            "grid_row": null,
            "grid_template_areas": null,
            "grid_template_columns": null,
            "grid_template_rows": null,
            "height": null,
            "justify_content": null,
            "justify_items": null,
            "left": null,
            "margin": null,
            "max_height": null,
            "max_width": null,
            "min_height": null,
            "min_width": null,
            "object_fit": null,
            "object_position": null,
            "order": null,
            "overflow": null,
            "overflow_x": null,
            "overflow_y": null,
            "padding": null,
            "right": null,
            "top": null,
            "visibility": null,
            "width": null
          }
        },
        "7ce7b252dc83473e9dfda9c25d3b28f7": {
          "model_module": "@jupyter-widgets/base",
          "model_name": "LayoutModel",
          "model_module_version": "1.2.0",
          "state": {
            "_model_module": "@jupyter-widgets/base",
            "_model_module_version": "1.2.0",
            "_model_name": "LayoutModel",
            "_view_count": null,
            "_view_module": "@jupyter-widgets/base",
            "_view_module_version": "1.2.0",
            "_view_name": "LayoutView",
            "align_content": null,
            "align_items": null,
            "align_self": null,
            "border": null,
            "bottom": null,
            "display": null,
            "flex": null,
            "flex_flow": null,
            "grid_area": null,
            "grid_auto_columns": null,
            "grid_auto_flow": null,
            "grid_auto_rows": null,
            "grid_column": null,
            "grid_gap": null,
            "grid_row": null,
            "grid_template_areas": null,
            "grid_template_columns": null,
            "grid_template_rows": null,
            "height": null,
            "justify_content": null,
            "justify_items": null,
            "left": null,
            "margin": null,
            "max_height": null,
            "max_width": null,
            "min_height": null,
            "min_width": null,
            "object_fit": null,
            "object_position": null,
            "order": null,
            "overflow": null,
            "overflow_x": null,
            "overflow_y": null,
            "padding": null,
            "right": null,
            "top": null,
            "visibility": null,
            "width": null
          }
        },
        "b80f3efe7dae4b14bf35736fd6ea12e8": {
          "model_module": "@jupyter-widgets/controls",
          "model_name": "DescriptionStyleModel",
          "model_module_version": "1.5.0",
          "state": {
            "_model_module": "@jupyter-widgets/controls",
            "_model_module_version": "1.5.0",
            "_model_name": "DescriptionStyleModel",
            "_view_count": null,
            "_view_module": "@jupyter-widgets/base",
            "_view_module_version": "1.2.0",
            "_view_name": "StyleView",
            "description_width": ""
          }
        },
        "013b109f02104beca99bda5d62f5f2b7": {
          "model_module": "@jupyter-widgets/base",
          "model_name": "LayoutModel",
          "model_module_version": "1.2.0",
          "state": {
            "_model_module": "@jupyter-widgets/base",
            "_model_module_version": "1.2.0",
            "_model_name": "LayoutModel",
            "_view_count": null,
            "_view_module": "@jupyter-widgets/base",
            "_view_module_version": "1.2.0",
            "_view_name": "LayoutView",
            "align_content": null,
            "align_items": null,
            "align_self": null,
            "border": null,
            "bottom": null,
            "display": null,
            "flex": null,
            "flex_flow": null,
            "grid_area": null,
            "grid_auto_columns": null,
            "grid_auto_flow": null,
            "grid_auto_rows": null,
            "grid_column": null,
            "grid_gap": null,
            "grid_row": null,
            "grid_template_areas": null,
            "grid_template_columns": null,
            "grid_template_rows": null,
            "height": null,
            "justify_content": null,
            "justify_items": null,
            "left": null,
            "margin": null,
            "max_height": null,
            "max_width": null,
            "min_height": null,
            "min_width": null,
            "object_fit": null,
            "object_position": null,
            "order": null,
            "overflow": null,
            "overflow_x": null,
            "overflow_y": null,
            "padding": null,
            "right": null,
            "top": null,
            "visibility": null,
            "width": null
          }
        },
        "8d6cdab3db24419cb9f6673428d9e20a": {
          "model_module": "@jupyter-widgets/controls",
          "model_name": "ProgressStyleModel",
          "model_module_version": "1.5.0",
          "state": {
            "_model_module": "@jupyter-widgets/controls",
            "_model_module_version": "1.5.0",
            "_model_name": "ProgressStyleModel",
            "_view_count": null,
            "_view_module": "@jupyter-widgets/base",
            "_view_module_version": "1.2.0",
            "_view_name": "StyleView",
            "bar_color": null,
            "description_width": ""
          }
        },
        "114658639a4e4b79a1da45b04b70feab": {
          "model_module": "@jupyter-widgets/base",
          "model_name": "LayoutModel",
          "model_module_version": "1.2.0",
          "state": {
            "_model_module": "@jupyter-widgets/base",
            "_model_module_version": "1.2.0",
            "_model_name": "LayoutModel",
            "_view_count": null,
            "_view_module": "@jupyter-widgets/base",
            "_view_module_version": "1.2.0",
            "_view_name": "LayoutView",
            "align_content": null,
            "align_items": null,
            "align_self": null,
            "border": null,
            "bottom": null,
            "display": null,
            "flex": null,
            "flex_flow": null,
            "grid_area": null,
            "grid_auto_columns": null,
            "grid_auto_flow": null,
            "grid_auto_rows": null,
            "grid_column": null,
            "grid_gap": null,
            "grid_row": null,
            "grid_template_areas": null,
            "grid_template_columns": null,
            "grid_template_rows": null,
            "height": null,
            "justify_content": null,
            "justify_items": null,
            "left": null,
            "margin": null,
            "max_height": null,
            "max_width": null,
            "min_height": null,
            "min_width": null,
            "object_fit": null,
            "object_position": null,
            "order": null,
            "overflow": null,
            "overflow_x": null,
            "overflow_y": null,
            "padding": null,
            "right": null,
            "top": null,
            "visibility": null,
            "width": null
          }
        },
        "b712c9964db24c0693cddf339601e688": {
          "model_module": "@jupyter-widgets/controls",
          "model_name": "DescriptionStyleModel",
          "model_module_version": "1.5.0",
          "state": {
            "_model_module": "@jupyter-widgets/controls",
            "_model_module_version": "1.5.0",
            "_model_name": "DescriptionStyleModel",
            "_view_count": null,
            "_view_module": "@jupyter-widgets/base",
            "_view_module_version": "1.2.0",
            "_view_name": "StyleView",
            "description_width": ""
          }
        },
        "606a3fc2b2534f1ab211c371c02e476e": {
          "model_module": "@jupyter-widgets/controls",
          "model_name": "HBoxModel",
          "model_module_version": "1.5.0",
          "state": {
            "_dom_classes": [],
            "_model_module": "@jupyter-widgets/controls",
            "_model_module_version": "1.5.0",
            "_model_name": "HBoxModel",
            "_view_count": null,
            "_view_module": "@jupyter-widgets/controls",
            "_view_module_version": "1.5.0",
            "_view_name": "HBoxView",
            "box_style": "",
            "children": [
              "IPY_MODEL_950c590db7c1403382a63cf6dcfe9c47",
              "IPY_MODEL_d4459c7a3b00485594e0af2779f7897d",
              "IPY_MODEL_9bfb20aedd72448e890442a1aaabfd6a"
            ],
            "layout": "IPY_MODEL_022e2bef9a3e4278b109dcddafe7c0d1"
          }
        },
        "950c590db7c1403382a63cf6dcfe9c47": {
          "model_module": "@jupyter-widgets/controls",
          "model_name": "HTMLModel",
          "model_module_version": "1.5.0",
          "state": {
            "_dom_classes": [],
            "_model_module": "@jupyter-widgets/controls",
            "_model_module_version": "1.5.0",
            "_model_name": "HTMLModel",
            "_view_count": null,
            "_view_module": "@jupyter-widgets/controls",
            "_view_module_version": "1.5.0",
            "_view_name": "HTMLView",
            "description": "",
            "description_tooltip": null,
            "layout": "IPY_MODEL_0c6d411eb9c1429aaa559400751f7f19",
            "placeholder": "​",
            "style": "IPY_MODEL_9af55bd7b44f4cbca00fadd53c51eaa9",
            "value": "100%"
          }
        },
        "d4459c7a3b00485594e0af2779f7897d": {
          "model_module": "@jupyter-widgets/controls",
          "model_name": "FloatProgressModel",
          "model_module_version": "1.5.0",
          "state": {
            "_dom_classes": [],
            "_model_module": "@jupyter-widgets/controls",
            "_model_module_version": "1.5.0",
            "_model_name": "FloatProgressModel",
            "_view_count": null,
            "_view_module": "@jupyter-widgets/controls",
            "_view_module_version": "1.5.0",
            "_view_name": "ProgressView",
            "bar_style": "success",
            "description": "",
            "description_tooltip": null,
            "layout": "IPY_MODEL_eca8d7a71fd64bd09066289c04156540",
            "max": 100,
            "min": 0,
            "orientation": "horizontal",
            "style": "IPY_MODEL_64b6cca9de6f46f7958f45c97215ba16",
            "value": 100
          }
        },
        "9bfb20aedd72448e890442a1aaabfd6a": {
          "model_module": "@jupyter-widgets/controls",
          "model_name": "HTMLModel",
          "model_module_version": "1.5.0",
          "state": {
            "_dom_classes": [],
            "_model_module": "@jupyter-widgets/controls",
            "_model_module_version": "1.5.0",
            "_model_name": "HTMLModel",
            "_view_count": null,
            "_view_module": "@jupyter-widgets/controls",
            "_view_module_version": "1.5.0",
            "_view_name": "HTMLView",
            "description": "",
            "description_tooltip": null,
            "layout": "IPY_MODEL_9160052cee914209809f4725c36d24ef",
            "placeholder": "​",
            "style": "IPY_MODEL_b0e099c525f74f45a1d3db624fffe685",
            "value": " 100/100 [01:10&lt;00:00,  1.08it/s]"
          }
        },
        "022e2bef9a3e4278b109dcddafe7c0d1": {
          "model_module": "@jupyter-widgets/base",
          "model_name": "LayoutModel",
          "model_module_version": "1.2.0",
          "state": {
            "_model_module": "@jupyter-widgets/base",
            "_model_module_version": "1.2.0",
            "_model_name": "LayoutModel",
            "_view_count": null,
            "_view_module": "@jupyter-widgets/base",
            "_view_module_version": "1.2.0",
            "_view_name": "LayoutView",
            "align_content": null,
            "align_items": null,
            "align_self": null,
            "border": null,
            "bottom": null,
            "display": null,
            "flex": null,
            "flex_flow": null,
            "grid_area": null,
            "grid_auto_columns": null,
            "grid_auto_flow": null,
            "grid_auto_rows": null,
            "grid_column": null,
            "grid_gap": null,
            "grid_row": null,
            "grid_template_areas": null,
            "grid_template_columns": null,
            "grid_template_rows": null,
            "height": null,
            "justify_content": null,
            "justify_items": null,
            "left": null,
            "margin": null,
            "max_height": null,
            "max_width": null,
            "min_height": null,
            "min_width": null,
            "object_fit": null,
            "object_position": null,
            "order": null,
            "overflow": null,
            "overflow_x": null,
            "overflow_y": null,
            "padding": null,
            "right": null,
            "top": null,
            "visibility": null,
            "width": null
          }
        },
        "0c6d411eb9c1429aaa559400751f7f19": {
          "model_module": "@jupyter-widgets/base",
          "model_name": "LayoutModel",
          "model_module_version": "1.2.0",
          "state": {
            "_model_module": "@jupyter-widgets/base",
            "_model_module_version": "1.2.0",
            "_model_name": "LayoutModel",
            "_view_count": null,
            "_view_module": "@jupyter-widgets/base",
            "_view_module_version": "1.2.0",
            "_view_name": "LayoutView",
            "align_content": null,
            "align_items": null,
            "align_self": null,
            "border": null,
            "bottom": null,
            "display": null,
            "flex": null,
            "flex_flow": null,
            "grid_area": null,
            "grid_auto_columns": null,
            "grid_auto_flow": null,
            "grid_auto_rows": null,
            "grid_column": null,
            "grid_gap": null,
            "grid_row": null,
            "grid_template_areas": null,
            "grid_template_columns": null,
            "grid_template_rows": null,
            "height": null,
            "justify_content": null,
            "justify_items": null,
            "left": null,
            "margin": null,
            "max_height": null,
            "max_width": null,
            "min_height": null,
            "min_width": null,
            "object_fit": null,
            "object_position": null,
            "order": null,
            "overflow": null,
            "overflow_x": null,
            "overflow_y": null,
            "padding": null,
            "right": null,
            "top": null,
            "visibility": null,
            "width": null
          }
        },
        "9af55bd7b44f4cbca00fadd53c51eaa9": {
          "model_module": "@jupyter-widgets/controls",
          "model_name": "DescriptionStyleModel",
          "model_module_version": "1.5.0",
          "state": {
            "_model_module": "@jupyter-widgets/controls",
            "_model_module_version": "1.5.0",
            "_model_name": "DescriptionStyleModel",
            "_view_count": null,
            "_view_module": "@jupyter-widgets/base",
            "_view_module_version": "1.2.0",
            "_view_name": "StyleView",
            "description_width": ""
          }
        },
        "eca8d7a71fd64bd09066289c04156540": {
          "model_module": "@jupyter-widgets/base",
          "model_name": "LayoutModel",
          "model_module_version": "1.2.0",
          "state": {
            "_model_module": "@jupyter-widgets/base",
            "_model_module_version": "1.2.0",
            "_model_name": "LayoutModel",
            "_view_count": null,
            "_view_module": "@jupyter-widgets/base",
            "_view_module_version": "1.2.0",
            "_view_name": "LayoutView",
            "align_content": null,
            "align_items": null,
            "align_self": null,
            "border": null,
            "bottom": null,
            "display": null,
            "flex": null,
            "flex_flow": null,
            "grid_area": null,
            "grid_auto_columns": null,
            "grid_auto_flow": null,
            "grid_auto_rows": null,
            "grid_column": null,
            "grid_gap": null,
            "grid_row": null,
            "grid_template_areas": null,
            "grid_template_columns": null,
            "grid_template_rows": null,
            "height": null,
            "justify_content": null,
            "justify_items": null,
            "left": null,
            "margin": null,
            "max_height": null,
            "max_width": null,
            "min_height": null,
            "min_width": null,
            "object_fit": null,
            "object_position": null,
            "order": null,
            "overflow": null,
            "overflow_x": null,
            "overflow_y": null,
            "padding": null,
            "right": null,
            "top": null,
            "visibility": null,
            "width": null
          }
        },
        "64b6cca9de6f46f7958f45c97215ba16": {
          "model_module": "@jupyter-widgets/controls",
          "model_name": "ProgressStyleModel",
          "model_module_version": "1.5.0",
          "state": {
            "_model_module": "@jupyter-widgets/controls",
            "_model_module_version": "1.5.0",
            "_model_name": "ProgressStyleModel",
            "_view_count": null,
            "_view_module": "@jupyter-widgets/base",
            "_view_module_version": "1.2.0",
            "_view_name": "StyleView",
            "bar_color": null,
            "description_width": ""
          }
        },
        "9160052cee914209809f4725c36d24ef": {
          "model_module": "@jupyter-widgets/base",
          "model_name": "LayoutModel",
          "model_module_version": "1.2.0",
          "state": {
            "_model_module": "@jupyter-widgets/base",
            "_model_module_version": "1.2.0",
            "_model_name": "LayoutModel",
            "_view_count": null,
            "_view_module": "@jupyter-widgets/base",
            "_view_module_version": "1.2.0",
            "_view_name": "LayoutView",
            "align_content": null,
            "align_items": null,
            "align_self": null,
            "border": null,
            "bottom": null,
            "display": null,
            "flex": null,
            "flex_flow": null,
            "grid_area": null,
            "grid_auto_columns": null,
            "grid_auto_flow": null,
            "grid_auto_rows": null,
            "grid_column": null,
            "grid_gap": null,
            "grid_row": null,
            "grid_template_areas": null,
            "grid_template_columns": null,
            "grid_template_rows": null,
            "height": null,
            "justify_content": null,
            "justify_items": null,
            "left": null,
            "margin": null,
            "max_height": null,
            "max_width": null,
            "min_height": null,
            "min_width": null,
            "object_fit": null,
            "object_position": null,
            "order": null,
            "overflow": null,
            "overflow_x": null,
            "overflow_y": null,
            "padding": null,
            "right": null,
            "top": null,
            "visibility": null,
            "width": null
          }
        },
        "b0e099c525f74f45a1d3db624fffe685": {
          "model_module": "@jupyter-widgets/controls",
          "model_name": "DescriptionStyleModel",
          "model_module_version": "1.5.0",
          "state": {
            "_model_module": "@jupyter-widgets/controls",
            "_model_module_version": "1.5.0",
            "_model_name": "DescriptionStyleModel",
            "_view_count": null,
            "_view_module": "@jupyter-widgets/base",
            "_view_module_version": "1.2.0",
            "_view_name": "StyleView",
            "description_width": ""
          }
        },
        "1b8b3b9d31484996808ced8eda1fbfb2": {
          "model_module": "@jupyter-widgets/controls",
          "model_name": "HBoxModel",
          "model_module_version": "1.5.0",
          "state": {
            "_dom_classes": [],
            "_model_module": "@jupyter-widgets/controls",
            "_model_module_version": "1.5.0",
            "_model_name": "HBoxModel",
            "_view_count": null,
            "_view_module": "@jupyter-widgets/controls",
            "_view_module_version": "1.5.0",
            "_view_name": "HBoxView",
            "box_style": "",
            "children": [
              "IPY_MODEL_6412fa8da3b740bbbe3fa60c0e9c2573",
              "IPY_MODEL_31fde94ed0be41f7b9170cdb6452830d",
              "IPY_MODEL_e2da005f401143c1b50fb2f75660a6d4"
            ],
            "layout": "IPY_MODEL_e05ff41f3ee9406187e4f4078862b2e5"
          }
        },
        "6412fa8da3b740bbbe3fa60c0e9c2573": {
          "model_module": "@jupyter-widgets/controls",
          "model_name": "HTMLModel",
          "model_module_version": "1.5.0",
          "state": {
            "_dom_classes": [],
            "_model_module": "@jupyter-widgets/controls",
            "_model_module_version": "1.5.0",
            "_model_name": "HTMLModel",
            "_view_count": null,
            "_view_module": "@jupyter-widgets/controls",
            "_view_module_version": "1.5.0",
            "_view_name": "HTMLView",
            "description": "",
            "description_tooltip": null,
            "layout": "IPY_MODEL_fce5f84785a74eff8cf1354b2c7db84d",
            "placeholder": "​",
            "style": "IPY_MODEL_d527b39b074e40759b87e87452ee8d4e",
            "value": "100%"
          }
        },
        "31fde94ed0be41f7b9170cdb6452830d": {
          "model_module": "@jupyter-widgets/controls",
          "model_name": "FloatProgressModel",
          "model_module_version": "1.5.0",
          "state": {
            "_dom_classes": [],
            "_model_module": "@jupyter-widgets/controls",
            "_model_module_version": "1.5.0",
            "_model_name": "FloatProgressModel",
            "_view_count": null,
            "_view_module": "@jupyter-widgets/controls",
            "_view_module_version": "1.5.0",
            "_view_name": "ProgressView",
            "bar_style": "success",
            "description": "",
            "description_tooltip": null,
            "layout": "IPY_MODEL_45e1700719a24ff68a0ac28f99df0ccb",
            "max": 100,
            "min": 0,
            "orientation": "horizontal",
            "style": "IPY_MODEL_2f030f36a7a746a196b7d3c45305109a",
            "value": 100
          }
        },
        "e2da005f401143c1b50fb2f75660a6d4": {
          "model_module": "@jupyter-widgets/controls",
          "model_name": "HTMLModel",
          "model_module_version": "1.5.0",
          "state": {
            "_dom_classes": [],
            "_model_module": "@jupyter-widgets/controls",
            "_model_module_version": "1.5.0",
            "_model_name": "HTMLModel",
            "_view_count": null,
            "_view_module": "@jupyter-widgets/controls",
            "_view_module_version": "1.5.0",
            "_view_name": "HTMLView",
            "description": "",
            "description_tooltip": null,
            "layout": "IPY_MODEL_c9cc902a426645b090376497ad4ef61f",
            "placeholder": "​",
            "style": "IPY_MODEL_340cc01bd48345d9b123e0d07aa734fe",
            "value": " 100/100 [01:23&lt;00:00,  1.89it/s]"
          }
        },
        "e05ff41f3ee9406187e4f4078862b2e5": {
          "model_module": "@jupyter-widgets/base",
          "model_name": "LayoutModel",
          "model_module_version": "1.2.0",
          "state": {
            "_model_module": "@jupyter-widgets/base",
            "_model_module_version": "1.2.0",
            "_model_name": "LayoutModel",
            "_view_count": null,
            "_view_module": "@jupyter-widgets/base",
            "_view_module_version": "1.2.0",
            "_view_name": "LayoutView",
            "align_content": null,
            "align_items": null,
            "align_self": null,
            "border": null,
            "bottom": null,
            "display": null,
            "flex": null,
            "flex_flow": null,
            "grid_area": null,
            "grid_auto_columns": null,
            "grid_auto_flow": null,
            "grid_auto_rows": null,
            "grid_column": null,
            "grid_gap": null,
            "grid_row": null,
            "grid_template_areas": null,
            "grid_template_columns": null,
            "grid_template_rows": null,
            "height": null,
            "justify_content": null,
            "justify_items": null,
            "left": null,
            "margin": null,
            "max_height": null,
            "max_width": null,
            "min_height": null,
            "min_width": null,
            "object_fit": null,
            "object_position": null,
            "order": null,
            "overflow": null,
            "overflow_x": null,
            "overflow_y": null,
            "padding": null,
            "right": null,
            "top": null,
            "visibility": null,
            "width": null
          }
        },
        "fce5f84785a74eff8cf1354b2c7db84d": {
          "model_module": "@jupyter-widgets/base",
          "model_name": "LayoutModel",
          "model_module_version": "1.2.0",
          "state": {
            "_model_module": "@jupyter-widgets/base",
            "_model_module_version": "1.2.0",
            "_model_name": "LayoutModel",
            "_view_count": null,
            "_view_module": "@jupyter-widgets/base",
            "_view_module_version": "1.2.0",
            "_view_name": "LayoutView",
            "align_content": null,
            "align_items": null,
            "align_self": null,
            "border": null,
            "bottom": null,
            "display": null,
            "flex": null,
            "flex_flow": null,
            "grid_area": null,
            "grid_auto_columns": null,
            "grid_auto_flow": null,
            "grid_auto_rows": null,
            "grid_column": null,
            "grid_gap": null,
            "grid_row": null,
            "grid_template_areas": null,
            "grid_template_columns": null,
            "grid_template_rows": null,
            "height": null,
            "justify_content": null,
            "justify_items": null,
            "left": null,
            "margin": null,
            "max_height": null,
            "max_width": null,
            "min_height": null,
            "min_width": null,
            "object_fit": null,
            "object_position": null,
            "order": null,
            "overflow": null,
            "overflow_x": null,
            "overflow_y": null,
            "padding": null,
            "right": null,
            "top": null,
            "visibility": null,
            "width": null
          }
        },
        "d527b39b074e40759b87e87452ee8d4e": {
          "model_module": "@jupyter-widgets/controls",
          "model_name": "DescriptionStyleModel",
          "model_module_version": "1.5.0",
          "state": {
            "_model_module": "@jupyter-widgets/controls",
            "_model_module_version": "1.5.0",
            "_model_name": "DescriptionStyleModel",
            "_view_count": null,
            "_view_module": "@jupyter-widgets/base",
            "_view_module_version": "1.2.0",
            "_view_name": "StyleView",
            "description_width": ""
          }
        },
        "45e1700719a24ff68a0ac28f99df0ccb": {
          "model_module": "@jupyter-widgets/base",
          "model_name": "LayoutModel",
          "model_module_version": "1.2.0",
          "state": {
            "_model_module": "@jupyter-widgets/base",
            "_model_module_version": "1.2.0",
            "_model_name": "LayoutModel",
            "_view_count": null,
            "_view_module": "@jupyter-widgets/base",
            "_view_module_version": "1.2.0",
            "_view_name": "LayoutView",
            "align_content": null,
            "align_items": null,
            "align_self": null,
            "border": null,
            "bottom": null,
            "display": null,
            "flex": null,
            "flex_flow": null,
            "grid_area": null,
            "grid_auto_columns": null,
            "grid_auto_flow": null,
            "grid_auto_rows": null,
            "grid_column": null,
            "grid_gap": null,
            "grid_row": null,
            "grid_template_areas": null,
            "grid_template_columns": null,
            "grid_template_rows": null,
            "height": null,
            "justify_content": null,
            "justify_items": null,
            "left": null,
            "margin": null,
            "max_height": null,
            "max_width": null,
            "min_height": null,
            "min_width": null,
            "object_fit": null,
            "object_position": null,
            "order": null,
            "overflow": null,
            "overflow_x": null,
            "overflow_y": null,
            "padding": null,
            "right": null,
            "top": null,
            "visibility": null,
            "width": null
          }
        },
        "2f030f36a7a746a196b7d3c45305109a": {
          "model_module": "@jupyter-widgets/controls",
          "model_name": "ProgressStyleModel",
          "model_module_version": "1.5.0",
          "state": {
            "_model_module": "@jupyter-widgets/controls",
            "_model_module_version": "1.5.0",
            "_model_name": "ProgressStyleModel",
            "_view_count": null,
            "_view_module": "@jupyter-widgets/base",
            "_view_module_version": "1.2.0",
            "_view_name": "StyleView",
            "bar_color": null,
            "description_width": ""
          }
        },
        "c9cc902a426645b090376497ad4ef61f": {
          "model_module": "@jupyter-widgets/base",
          "model_name": "LayoutModel",
          "model_module_version": "1.2.0",
          "state": {
            "_model_module": "@jupyter-widgets/base",
            "_model_module_version": "1.2.0",
            "_model_name": "LayoutModel",
            "_view_count": null,
            "_view_module": "@jupyter-widgets/base",
            "_view_module_version": "1.2.0",
            "_view_name": "LayoutView",
            "align_content": null,
            "align_items": null,
            "align_self": null,
            "border": null,
            "bottom": null,
            "display": null,
            "flex": null,
            "flex_flow": null,
            "grid_area": null,
            "grid_auto_columns": null,
            "grid_auto_flow": null,
            "grid_auto_rows": null,
            "grid_column": null,
            "grid_gap": null,
            "grid_row": null,
            "grid_template_areas": null,
            "grid_template_columns": null,
            "grid_template_rows": null,
            "height": null,
            "justify_content": null,
            "justify_items": null,
            "left": null,
            "margin": null,
            "max_height": null,
            "max_width": null,
            "min_height": null,
            "min_width": null,
            "object_fit": null,
            "object_position": null,
            "order": null,
            "overflow": null,
            "overflow_x": null,
            "overflow_y": null,
            "padding": null,
            "right": null,
            "top": null,
            "visibility": null,
            "width": null
          }
        },
        "340cc01bd48345d9b123e0d07aa734fe": {
          "model_module": "@jupyter-widgets/controls",
          "model_name": "DescriptionStyleModel",
          "model_module_version": "1.5.0",
          "state": {
            "_model_module": "@jupyter-widgets/controls",
            "_model_module_version": "1.5.0",
            "_model_name": "DescriptionStyleModel",
            "_view_count": null,
            "_view_module": "@jupyter-widgets/base",
            "_view_module_version": "1.2.0",
            "_view_name": "StyleView",
            "description_width": ""
          }
        },
        "c97dc58295bb4ee6a11300c99bc7f84a": {
          "model_module": "@jupyter-widgets/controls",
          "model_name": "HBoxModel",
          "model_module_version": "1.5.0",
          "state": {
            "_dom_classes": [],
            "_model_module": "@jupyter-widgets/controls",
            "_model_module_version": "1.5.0",
            "_model_name": "HBoxModel",
            "_view_count": null,
            "_view_module": "@jupyter-widgets/controls",
            "_view_module_version": "1.5.0",
            "_view_name": "HBoxView",
            "box_style": "",
            "children": [
              "IPY_MODEL_d55da909868548bcafb23c327cc58834",
              "IPY_MODEL_08162716476a4877bfb2b1629787b2c2",
              "IPY_MODEL_363799b84f574eb19000358388320259"
            ],
            "layout": "IPY_MODEL_4736ac4dea2b4c03b684a3ab7a3c7aed"
          }
        },
        "d55da909868548bcafb23c327cc58834": {
          "model_module": "@jupyter-widgets/controls",
          "model_name": "HTMLModel",
          "model_module_version": "1.5.0",
          "state": {
            "_dom_classes": [],
            "_model_module": "@jupyter-widgets/controls",
            "_model_module_version": "1.5.0",
            "_model_name": "HTMLModel",
            "_view_count": null,
            "_view_module": "@jupyter-widgets/controls",
            "_view_module_version": "1.5.0",
            "_view_name": "HTMLView",
            "description": "",
            "description_tooltip": null,
            "layout": "IPY_MODEL_8ccd830af6344b6bb6eee635dedbce7c",
            "placeholder": "​",
            "style": "IPY_MODEL_4b39c4791bdf4067ac6bd9b0afe639f3",
            "value": "100%"
          }
        },
        "08162716476a4877bfb2b1629787b2c2": {
          "model_module": "@jupyter-widgets/controls",
          "model_name": "FloatProgressModel",
          "model_module_version": "1.5.0",
          "state": {
            "_dom_classes": [],
            "_model_module": "@jupyter-widgets/controls",
            "_model_module_version": "1.5.0",
            "_model_name": "FloatProgressModel",
            "_view_count": null,
            "_view_module": "@jupyter-widgets/controls",
            "_view_module_version": "1.5.0",
            "_view_name": "ProgressView",
            "bar_style": "success",
            "description": "",
            "description_tooltip": null,
            "layout": "IPY_MODEL_2abca338859a4c499f7085893ad24e94",
            "max": 100,
            "min": 0,
            "orientation": "horizontal",
            "style": "IPY_MODEL_eadb7845c7ea44a0b012bedea5d38d77",
            "value": 100
          }
        },
        "363799b84f574eb19000358388320259": {
          "model_module": "@jupyter-widgets/controls",
          "model_name": "HTMLModel",
          "model_module_version": "1.5.0",
          "state": {
            "_dom_classes": [],
            "_model_module": "@jupyter-widgets/controls",
            "_model_module_version": "1.5.0",
            "_model_name": "HTMLModel",
            "_view_count": null,
            "_view_module": "@jupyter-widgets/controls",
            "_view_module_version": "1.5.0",
            "_view_name": "HTMLView",
            "description": "",
            "description_tooltip": null,
            "layout": "IPY_MODEL_f3d2bdd8468142ab9b95f52428ac8a5d",
            "placeholder": "​",
            "style": "IPY_MODEL_10c2246b19c4478abe73ad44e7732f00",
            "value": " 100/100 [01:25&lt;00:00,  1.56it/s]"
          }
        },
        "4736ac4dea2b4c03b684a3ab7a3c7aed": {
          "model_module": "@jupyter-widgets/base",
          "model_name": "LayoutModel",
          "model_module_version": "1.2.0",
          "state": {
            "_model_module": "@jupyter-widgets/base",
            "_model_module_version": "1.2.0",
            "_model_name": "LayoutModel",
            "_view_count": null,
            "_view_module": "@jupyter-widgets/base",
            "_view_module_version": "1.2.0",
            "_view_name": "LayoutView",
            "align_content": null,
            "align_items": null,
            "align_self": null,
            "border": null,
            "bottom": null,
            "display": null,
            "flex": null,
            "flex_flow": null,
            "grid_area": null,
            "grid_auto_columns": null,
            "grid_auto_flow": null,
            "grid_auto_rows": null,
            "grid_column": null,
            "grid_gap": null,
            "grid_row": null,
            "grid_template_areas": null,
            "grid_template_columns": null,
            "grid_template_rows": null,
            "height": null,
            "justify_content": null,
            "justify_items": null,
            "left": null,
            "margin": null,
            "max_height": null,
            "max_width": null,
            "min_height": null,
            "min_width": null,
            "object_fit": null,
            "object_position": null,
            "order": null,
            "overflow": null,
            "overflow_x": null,
            "overflow_y": null,
            "padding": null,
            "right": null,
            "top": null,
            "visibility": null,
            "width": null
          }
        },
        "8ccd830af6344b6bb6eee635dedbce7c": {
          "model_module": "@jupyter-widgets/base",
          "model_name": "LayoutModel",
          "model_module_version": "1.2.0",
          "state": {
            "_model_module": "@jupyter-widgets/base",
            "_model_module_version": "1.2.0",
            "_model_name": "LayoutModel",
            "_view_count": null,
            "_view_module": "@jupyter-widgets/base",
            "_view_module_version": "1.2.0",
            "_view_name": "LayoutView",
            "align_content": null,
            "align_items": null,
            "align_self": null,
            "border": null,
            "bottom": null,
            "display": null,
            "flex": null,
            "flex_flow": null,
            "grid_area": null,
            "grid_auto_columns": null,
            "grid_auto_flow": null,
            "grid_auto_rows": null,
            "grid_column": null,
            "grid_gap": null,
            "grid_row": null,
            "grid_template_areas": null,
            "grid_template_columns": null,
            "grid_template_rows": null,
            "height": null,
            "justify_content": null,
            "justify_items": null,
            "left": null,
            "margin": null,
            "max_height": null,
            "max_width": null,
            "min_height": null,
            "min_width": null,
            "object_fit": null,
            "object_position": null,
            "order": null,
            "overflow": null,
            "overflow_x": null,
            "overflow_y": null,
            "padding": null,
            "right": null,
            "top": null,
            "visibility": null,
            "width": null
          }
        },
        "4b39c4791bdf4067ac6bd9b0afe639f3": {
          "model_module": "@jupyter-widgets/controls",
          "model_name": "DescriptionStyleModel",
          "model_module_version": "1.5.0",
          "state": {
            "_model_module": "@jupyter-widgets/controls",
            "_model_module_version": "1.5.0",
            "_model_name": "DescriptionStyleModel",
            "_view_count": null,
            "_view_module": "@jupyter-widgets/base",
            "_view_module_version": "1.2.0",
            "_view_name": "StyleView",
            "description_width": ""
          }
        },
        "2abca338859a4c499f7085893ad24e94": {
          "model_module": "@jupyter-widgets/base",
          "model_name": "LayoutModel",
          "model_module_version": "1.2.0",
          "state": {
            "_model_module": "@jupyter-widgets/base",
            "_model_module_version": "1.2.0",
            "_model_name": "LayoutModel",
            "_view_count": null,
            "_view_module": "@jupyter-widgets/base",
            "_view_module_version": "1.2.0",
            "_view_name": "LayoutView",
            "align_content": null,
            "align_items": null,
            "align_self": null,
            "border": null,
            "bottom": null,
            "display": null,
            "flex": null,
            "flex_flow": null,
            "grid_area": null,
            "grid_auto_columns": null,
            "grid_auto_flow": null,
            "grid_auto_rows": null,
            "grid_column": null,
            "grid_gap": null,
            "grid_row": null,
            "grid_template_areas": null,
            "grid_template_columns": null,
            "grid_template_rows": null,
            "height": null,
            "justify_content": null,
            "justify_items": null,
            "left": null,
            "margin": null,
            "max_height": null,
            "max_width": null,
            "min_height": null,
            "min_width": null,
            "object_fit": null,
            "object_position": null,
            "order": null,
            "overflow": null,
            "overflow_x": null,
            "overflow_y": null,
            "padding": null,
            "right": null,
            "top": null,
            "visibility": null,
            "width": null
          }
        },
        "eadb7845c7ea44a0b012bedea5d38d77": {
          "model_module": "@jupyter-widgets/controls",
          "model_name": "ProgressStyleModel",
          "model_module_version": "1.5.0",
          "state": {
            "_model_module": "@jupyter-widgets/controls",
            "_model_module_version": "1.5.0",
            "_model_name": "ProgressStyleModel",
            "_view_count": null,
            "_view_module": "@jupyter-widgets/base",
            "_view_module_version": "1.2.0",
            "_view_name": "StyleView",
            "bar_color": null,
            "description_width": ""
          }
        },
        "f3d2bdd8468142ab9b95f52428ac8a5d": {
          "model_module": "@jupyter-widgets/base",
          "model_name": "LayoutModel",
          "model_module_version": "1.2.0",
          "state": {
            "_model_module": "@jupyter-widgets/base",
            "_model_module_version": "1.2.0",
            "_model_name": "LayoutModel",
            "_view_count": null,
            "_view_module": "@jupyter-widgets/base",
            "_view_module_version": "1.2.0",
            "_view_name": "LayoutView",
            "align_content": null,
            "align_items": null,
            "align_self": null,
            "border": null,
            "bottom": null,
            "display": null,
            "flex": null,
            "flex_flow": null,
            "grid_area": null,
            "grid_auto_columns": null,
            "grid_auto_flow": null,
            "grid_auto_rows": null,
            "grid_column": null,
            "grid_gap": null,
            "grid_row": null,
            "grid_template_areas": null,
            "grid_template_columns": null,
            "grid_template_rows": null,
            "height": null,
            "justify_content": null,
            "justify_items": null,
            "left": null,
            "margin": null,
            "max_height": null,
            "max_width": null,
            "min_height": null,
            "min_width": null,
            "object_fit": null,
            "object_position": null,
            "order": null,
            "overflow": null,
            "overflow_x": null,
            "overflow_y": null,
            "padding": null,
            "right": null,
            "top": null,
            "visibility": null,
            "width": null
          }
        },
        "10c2246b19c4478abe73ad44e7732f00": {
          "model_module": "@jupyter-widgets/controls",
          "model_name": "DescriptionStyleModel",
          "model_module_version": "1.5.0",
          "state": {
            "_model_module": "@jupyter-widgets/controls",
            "_model_module_version": "1.5.0",
            "_model_name": "DescriptionStyleModel",
            "_view_count": null,
            "_view_module": "@jupyter-widgets/base",
            "_view_module_version": "1.2.0",
            "_view_name": "StyleView",
            "description_width": ""
          }
        },
        "a96954e1df4b4090aa2ed4f8109eb745": {
          "model_module": "@jupyter-widgets/controls",
          "model_name": "HBoxModel",
          "model_module_version": "1.5.0",
          "state": {
            "_dom_classes": [],
            "_model_module": "@jupyter-widgets/controls",
            "_model_module_version": "1.5.0",
            "_model_name": "HBoxModel",
            "_view_count": null,
            "_view_module": "@jupyter-widgets/controls",
            "_view_module_version": "1.5.0",
            "_view_name": "HBoxView",
            "box_style": "",
            "children": [
              "IPY_MODEL_15f2543b12ff40378201233cfd6ac7eb",
              "IPY_MODEL_c67d0c488ffc48dd89241e578fd55cce",
              "IPY_MODEL_e285741c16474790a0d0d9303b369e7e"
            ],
            "layout": "IPY_MODEL_58ebb7bd5b024bc8be821e7b96e2ddde"
          }
        },
        "15f2543b12ff40378201233cfd6ac7eb": {
          "model_module": "@jupyter-widgets/controls",
          "model_name": "HTMLModel",
          "model_module_version": "1.5.0",
          "state": {
            "_dom_classes": [],
            "_model_module": "@jupyter-widgets/controls",
            "_model_module_version": "1.5.0",
            "_model_name": "HTMLModel",
            "_view_count": null,
            "_view_module": "@jupyter-widgets/controls",
            "_view_module_version": "1.5.0",
            "_view_name": "HTMLView",
            "description": "",
            "description_tooltip": null,
            "layout": "IPY_MODEL_c517e360442b4481afcab2cf3ff73a14",
            "placeholder": "​",
            "style": "IPY_MODEL_5e2323e649c445808a7c87fe80374e3d",
            "value": "100%"
          }
        },
        "c67d0c488ffc48dd89241e578fd55cce": {
          "model_module": "@jupyter-widgets/controls",
          "model_name": "FloatProgressModel",
          "model_module_version": "1.5.0",
          "state": {
            "_dom_classes": [],
            "_model_module": "@jupyter-widgets/controls",
            "_model_module_version": "1.5.0",
            "_model_name": "FloatProgressModel",
            "_view_count": null,
            "_view_module": "@jupyter-widgets/controls",
            "_view_module_version": "1.5.0",
            "_view_name": "ProgressView",
            "bar_style": "success",
            "description": "",
            "description_tooltip": null,
            "layout": "IPY_MODEL_f043256e871c4c259eaa320ad57ba8b8",
            "max": 100,
            "min": 0,
            "orientation": "horizontal",
            "style": "IPY_MODEL_a9ff154bfdbb47b0bbaa172ac4a0c4ae",
            "value": 100
          }
        },
        "e285741c16474790a0d0d9303b369e7e": {
          "model_module": "@jupyter-widgets/controls",
          "model_name": "HTMLModel",
          "model_module_version": "1.5.0",
          "state": {
            "_dom_classes": [],
            "_model_module": "@jupyter-widgets/controls",
            "_model_module_version": "1.5.0",
            "_model_name": "HTMLModel",
            "_view_count": null,
            "_view_module": "@jupyter-widgets/controls",
            "_view_module_version": "1.5.0",
            "_view_name": "HTMLView",
            "description": "",
            "description_tooltip": null,
            "layout": "IPY_MODEL_2d1203f6a2a2455e83c14ef1325c7f38",
            "placeholder": "​",
            "style": "IPY_MODEL_2883487aa5a342908bffba8c09783a47",
            "value": " 100/100 [01:38&lt;00:00,  1.08s/it]"
          }
        },
        "58ebb7bd5b024bc8be821e7b96e2ddde": {
          "model_module": "@jupyter-widgets/base",
          "model_name": "LayoutModel",
          "model_module_version": "1.2.0",
          "state": {
            "_model_module": "@jupyter-widgets/base",
            "_model_module_version": "1.2.0",
            "_model_name": "LayoutModel",
            "_view_count": null,
            "_view_module": "@jupyter-widgets/base",
            "_view_module_version": "1.2.0",
            "_view_name": "LayoutView",
            "align_content": null,
            "align_items": null,
            "align_self": null,
            "border": null,
            "bottom": null,
            "display": null,
            "flex": null,
            "flex_flow": null,
            "grid_area": null,
            "grid_auto_columns": null,
            "grid_auto_flow": null,
            "grid_auto_rows": null,
            "grid_column": null,
            "grid_gap": null,
            "grid_row": null,
            "grid_template_areas": null,
            "grid_template_columns": null,
            "grid_template_rows": null,
            "height": null,
            "justify_content": null,
            "justify_items": null,
            "left": null,
            "margin": null,
            "max_height": null,
            "max_width": null,
            "min_height": null,
            "min_width": null,
            "object_fit": null,
            "object_position": null,
            "order": null,
            "overflow": null,
            "overflow_x": null,
            "overflow_y": null,
            "padding": null,
            "right": null,
            "top": null,
            "visibility": null,
            "width": null
          }
        },
        "c517e360442b4481afcab2cf3ff73a14": {
          "model_module": "@jupyter-widgets/base",
          "model_name": "LayoutModel",
          "model_module_version": "1.2.0",
          "state": {
            "_model_module": "@jupyter-widgets/base",
            "_model_module_version": "1.2.0",
            "_model_name": "LayoutModel",
            "_view_count": null,
            "_view_module": "@jupyter-widgets/base",
            "_view_module_version": "1.2.0",
            "_view_name": "LayoutView",
            "align_content": null,
            "align_items": null,
            "align_self": null,
            "border": null,
            "bottom": null,
            "display": null,
            "flex": null,
            "flex_flow": null,
            "grid_area": null,
            "grid_auto_columns": null,
            "grid_auto_flow": null,
            "grid_auto_rows": null,
            "grid_column": null,
            "grid_gap": null,
            "grid_row": null,
            "grid_template_areas": null,
            "grid_template_columns": null,
            "grid_template_rows": null,
            "height": null,
            "justify_content": null,
            "justify_items": null,
            "left": null,
            "margin": null,
            "max_height": null,
            "max_width": null,
            "min_height": null,
            "min_width": null,
            "object_fit": null,
            "object_position": null,
            "order": null,
            "overflow": null,
            "overflow_x": null,
            "overflow_y": null,
            "padding": null,
            "right": null,
            "top": null,
            "visibility": null,
            "width": null
          }
        },
        "5e2323e649c445808a7c87fe80374e3d": {
          "model_module": "@jupyter-widgets/controls",
          "model_name": "DescriptionStyleModel",
          "model_module_version": "1.5.0",
          "state": {
            "_model_module": "@jupyter-widgets/controls",
            "_model_module_version": "1.5.0",
            "_model_name": "DescriptionStyleModel",
            "_view_count": null,
            "_view_module": "@jupyter-widgets/base",
            "_view_module_version": "1.2.0",
            "_view_name": "StyleView",
            "description_width": ""
          }
        },
        "f043256e871c4c259eaa320ad57ba8b8": {
          "model_module": "@jupyter-widgets/base",
          "model_name": "LayoutModel",
          "model_module_version": "1.2.0",
          "state": {
            "_model_module": "@jupyter-widgets/base",
            "_model_module_version": "1.2.0",
            "_model_name": "LayoutModel",
            "_view_count": null,
            "_view_module": "@jupyter-widgets/base",
            "_view_module_version": "1.2.0",
            "_view_name": "LayoutView",
            "align_content": null,
            "align_items": null,
            "align_self": null,
            "border": null,
            "bottom": null,
            "display": null,
            "flex": null,
            "flex_flow": null,
            "grid_area": null,
            "grid_auto_columns": null,
            "grid_auto_flow": null,
            "grid_auto_rows": null,
            "grid_column": null,
            "grid_gap": null,
            "grid_row": null,
            "grid_template_areas": null,
            "grid_template_columns": null,
            "grid_template_rows": null,
            "height": null,
            "justify_content": null,
            "justify_items": null,
            "left": null,
            "margin": null,
            "max_height": null,
            "max_width": null,
            "min_height": null,
            "min_width": null,
            "object_fit": null,
            "object_position": null,
            "order": null,
            "overflow": null,
            "overflow_x": null,
            "overflow_y": null,
            "padding": null,
            "right": null,
            "top": null,
            "visibility": null,
            "width": null
          }
        },
        "a9ff154bfdbb47b0bbaa172ac4a0c4ae": {
          "model_module": "@jupyter-widgets/controls",
          "model_name": "ProgressStyleModel",
          "model_module_version": "1.5.0",
          "state": {
            "_model_module": "@jupyter-widgets/controls",
            "_model_module_version": "1.5.0",
            "_model_name": "ProgressStyleModel",
            "_view_count": null,
            "_view_module": "@jupyter-widgets/base",
            "_view_module_version": "1.2.0",
            "_view_name": "StyleView",
            "bar_color": null,
            "description_width": ""
          }
        },
        "2d1203f6a2a2455e83c14ef1325c7f38": {
          "model_module": "@jupyter-widgets/base",
          "model_name": "LayoutModel",
          "model_module_version": "1.2.0",
          "state": {
            "_model_module": "@jupyter-widgets/base",
            "_model_module_version": "1.2.0",
            "_model_name": "LayoutModel",
            "_view_count": null,
            "_view_module": "@jupyter-widgets/base",
            "_view_module_version": "1.2.0",
            "_view_name": "LayoutView",
            "align_content": null,
            "align_items": null,
            "align_self": null,
            "border": null,
            "bottom": null,
            "display": null,
            "flex": null,
            "flex_flow": null,
            "grid_area": null,
            "grid_auto_columns": null,
            "grid_auto_flow": null,
            "grid_auto_rows": null,
            "grid_column": null,
            "grid_gap": null,
            "grid_row": null,
            "grid_template_areas": null,
            "grid_template_columns": null,
            "grid_template_rows": null,
            "height": null,
            "justify_content": null,
            "justify_items": null,
            "left": null,
            "margin": null,
            "max_height": null,
            "max_width": null,
            "min_height": null,
            "min_width": null,
            "object_fit": null,
            "object_position": null,
            "order": null,
            "overflow": null,
            "overflow_x": null,
            "overflow_y": null,
            "padding": null,
            "right": null,
            "top": null,
            "visibility": null,
            "width": null
          }
        },
        "2883487aa5a342908bffba8c09783a47": {
          "model_module": "@jupyter-widgets/controls",
          "model_name": "DescriptionStyleModel",
          "model_module_version": "1.5.0",
          "state": {
            "_model_module": "@jupyter-widgets/controls",
            "_model_module_version": "1.5.0",
            "_model_name": "DescriptionStyleModel",
            "_view_count": null,
            "_view_module": "@jupyter-widgets/base",
            "_view_module_version": "1.2.0",
            "_view_name": "StyleView",
            "description_width": ""
          }
        },
        "b29166fc136a45c58afcd72e8d3a2d0d": {
          "model_module": "@jupyter-widgets/controls",
          "model_name": "HBoxModel",
          "model_module_version": "1.5.0",
          "state": {
            "_dom_classes": [],
            "_model_module": "@jupyter-widgets/controls",
            "_model_module_version": "1.5.0",
            "_model_name": "HBoxModel",
            "_view_count": null,
            "_view_module": "@jupyter-widgets/controls",
            "_view_module_version": "1.5.0",
            "_view_name": "HBoxView",
            "box_style": "",
            "children": [
              "IPY_MODEL_76d97b41867e4d01bb126fa768eabefa",
              "IPY_MODEL_b7d0335f7e314c5190c6ba8337ad4a14",
              "IPY_MODEL_43c8198a3abe492db718f8b1e18f0a87"
            ],
            "layout": "IPY_MODEL_0a78032224744f6b8110070366008dcc"
          }
        },
        "76d97b41867e4d01bb126fa768eabefa": {
          "model_module": "@jupyter-widgets/controls",
          "model_name": "HTMLModel",
          "model_module_version": "1.5.0",
          "state": {
            "_dom_classes": [],
            "_model_module": "@jupyter-widgets/controls",
            "_model_module_version": "1.5.0",
            "_model_name": "HTMLModel",
            "_view_count": null,
            "_view_module": "@jupyter-widgets/controls",
            "_view_module_version": "1.5.0",
            "_view_name": "HTMLView",
            "description": "",
            "description_tooltip": null,
            "layout": "IPY_MODEL_e7b2c1f8b47f4ae38b37318d6866292d",
            "placeholder": "​",
            "style": "IPY_MODEL_3018cbe2ff7d4a3a9262af3fc2de571a",
            "value": "100%"
          }
        },
        "b7d0335f7e314c5190c6ba8337ad4a14": {
          "model_module": "@jupyter-widgets/controls",
          "model_name": "FloatProgressModel",
          "model_module_version": "1.5.0",
          "state": {
            "_dom_classes": [],
            "_model_module": "@jupyter-widgets/controls",
            "_model_module_version": "1.5.0",
            "_model_name": "FloatProgressModel",
            "_view_count": null,
            "_view_module": "@jupyter-widgets/controls",
            "_view_module_version": "1.5.0",
            "_view_name": "ProgressView",
            "bar_style": "success",
            "description": "",
            "description_tooltip": null,
            "layout": "IPY_MODEL_d13293f6413948daa396d4f441f31868",
            "max": 600,
            "min": 0,
            "orientation": "horizontal",
            "style": "IPY_MODEL_856347d9f1624ed3adc8b7d83aa576c2",
            "value": 600
          }
        },
        "43c8198a3abe492db718f8b1e18f0a87": {
          "model_module": "@jupyter-widgets/controls",
          "model_name": "HTMLModel",
          "model_module_version": "1.5.0",
          "state": {
            "_dom_classes": [],
            "_model_module": "@jupyter-widgets/controls",
            "_model_module_version": "1.5.0",
            "_model_name": "HTMLModel",
            "_view_count": null,
            "_view_module": "@jupyter-widgets/controls",
            "_view_module_version": "1.5.0",
            "_view_name": "HTMLView",
            "description": "",
            "description_tooltip": null,
            "layout": "IPY_MODEL_c1976bfcc3404521876e2ccbb3b0c907",
            "placeholder": "​",
            "style": "IPY_MODEL_42539d8bfc60453eb23137585dbf1e28",
            "value": " 600/600 [16:53&lt;00:00,  2.01s/it]"
          }
        },
        "0a78032224744f6b8110070366008dcc": {
          "model_module": "@jupyter-widgets/base",
          "model_name": "LayoutModel",
          "model_module_version": "1.2.0",
          "state": {
            "_model_module": "@jupyter-widgets/base",
            "_model_module_version": "1.2.0",
            "_model_name": "LayoutModel",
            "_view_count": null,
            "_view_module": "@jupyter-widgets/base",
            "_view_module_version": "1.2.0",
            "_view_name": "LayoutView",
            "align_content": null,
            "align_items": null,
            "align_self": null,
            "border": null,
            "bottom": null,
            "display": null,
            "flex": null,
            "flex_flow": null,
            "grid_area": null,
            "grid_auto_columns": null,
            "grid_auto_flow": null,
            "grid_auto_rows": null,
            "grid_column": null,
            "grid_gap": null,
            "grid_row": null,
            "grid_template_areas": null,
            "grid_template_columns": null,
            "grid_template_rows": null,
            "height": null,
            "justify_content": null,
            "justify_items": null,
            "left": null,
            "margin": null,
            "max_height": null,
            "max_width": null,
            "min_height": null,
            "min_width": null,
            "object_fit": null,
            "object_position": null,
            "order": null,
            "overflow": null,
            "overflow_x": null,
            "overflow_y": null,
            "padding": null,
            "right": null,
            "top": null,
            "visibility": null,
            "width": null
          }
        },
        "e7b2c1f8b47f4ae38b37318d6866292d": {
          "model_module": "@jupyter-widgets/base",
          "model_name": "LayoutModel",
          "model_module_version": "1.2.0",
          "state": {
            "_model_module": "@jupyter-widgets/base",
            "_model_module_version": "1.2.0",
            "_model_name": "LayoutModel",
            "_view_count": null,
            "_view_module": "@jupyter-widgets/base",
            "_view_module_version": "1.2.0",
            "_view_name": "LayoutView",
            "align_content": null,
            "align_items": null,
            "align_self": null,
            "border": null,
            "bottom": null,
            "display": null,
            "flex": null,
            "flex_flow": null,
            "grid_area": null,
            "grid_auto_columns": null,
            "grid_auto_flow": null,
            "grid_auto_rows": null,
            "grid_column": null,
            "grid_gap": null,
            "grid_row": null,
            "grid_template_areas": null,
            "grid_template_columns": null,
            "grid_template_rows": null,
            "height": null,
            "justify_content": null,
            "justify_items": null,
            "left": null,
            "margin": null,
            "max_height": null,
            "max_width": null,
            "min_height": null,
            "min_width": null,
            "object_fit": null,
            "object_position": null,
            "order": null,
            "overflow": null,
            "overflow_x": null,
            "overflow_y": null,
            "padding": null,
            "right": null,
            "top": null,
            "visibility": null,
            "width": null
          }
        },
        "3018cbe2ff7d4a3a9262af3fc2de571a": {
          "model_module": "@jupyter-widgets/controls",
          "model_name": "DescriptionStyleModel",
          "model_module_version": "1.5.0",
          "state": {
            "_model_module": "@jupyter-widgets/controls",
            "_model_module_version": "1.5.0",
            "_model_name": "DescriptionStyleModel",
            "_view_count": null,
            "_view_module": "@jupyter-widgets/base",
            "_view_module_version": "1.2.0",
            "_view_name": "StyleView",
            "description_width": ""
          }
        },
        "d13293f6413948daa396d4f441f31868": {
          "model_module": "@jupyter-widgets/base",
          "model_name": "LayoutModel",
          "model_module_version": "1.2.0",
          "state": {
            "_model_module": "@jupyter-widgets/base",
            "_model_module_version": "1.2.0",
            "_model_name": "LayoutModel",
            "_view_count": null,
            "_view_module": "@jupyter-widgets/base",
            "_view_module_version": "1.2.0",
            "_view_name": "LayoutView",
            "align_content": null,
            "align_items": null,
            "align_self": null,
            "border": null,
            "bottom": null,
            "display": null,
            "flex": null,
            "flex_flow": null,
            "grid_area": null,
            "grid_auto_columns": null,
            "grid_auto_flow": null,
            "grid_auto_rows": null,
            "grid_column": null,
            "grid_gap": null,
            "grid_row": null,
            "grid_template_areas": null,
            "grid_template_columns": null,
            "grid_template_rows": null,
            "height": null,
            "justify_content": null,
            "justify_items": null,
            "left": null,
            "margin": null,
            "max_height": null,
            "max_width": null,
            "min_height": null,
            "min_width": null,
            "object_fit": null,
            "object_position": null,
            "order": null,
            "overflow": null,
            "overflow_x": null,
            "overflow_y": null,
            "padding": null,
            "right": null,
            "top": null,
            "visibility": null,
            "width": null
          }
        },
        "856347d9f1624ed3adc8b7d83aa576c2": {
          "model_module": "@jupyter-widgets/controls",
          "model_name": "ProgressStyleModel",
          "model_module_version": "1.5.0",
          "state": {
            "_model_module": "@jupyter-widgets/controls",
            "_model_module_version": "1.5.0",
            "_model_name": "ProgressStyleModel",
            "_view_count": null,
            "_view_module": "@jupyter-widgets/base",
            "_view_module_version": "1.2.0",
            "_view_name": "StyleView",
            "bar_color": null,
            "description_width": ""
          }
        },
        "c1976bfcc3404521876e2ccbb3b0c907": {
          "model_module": "@jupyter-widgets/base",
          "model_name": "LayoutModel",
          "model_module_version": "1.2.0",
          "state": {
            "_model_module": "@jupyter-widgets/base",
            "_model_module_version": "1.2.0",
            "_model_name": "LayoutModel",
            "_view_count": null,
            "_view_module": "@jupyter-widgets/base",
            "_view_module_version": "1.2.0",
            "_view_name": "LayoutView",
            "align_content": null,
            "align_items": null,
            "align_self": null,
            "border": null,
            "bottom": null,
            "display": null,
            "flex": null,
            "flex_flow": null,
            "grid_area": null,
            "grid_auto_columns": null,
            "grid_auto_flow": null,
            "grid_auto_rows": null,
            "grid_column": null,
            "grid_gap": null,
            "grid_row": null,
            "grid_template_areas": null,
            "grid_template_columns": null,
            "grid_template_rows": null,
            "height": null,
            "justify_content": null,
            "justify_items": null,
            "left": null,
            "margin": null,
            "max_height": null,
            "max_width": null,
            "min_height": null,
            "min_width": null,
            "object_fit": null,
            "object_position": null,
            "order": null,
            "overflow": null,
            "overflow_x": null,
            "overflow_y": null,
            "padding": null,
            "right": null,
            "top": null,
            "visibility": null,
            "width": null
          }
        },
        "42539d8bfc60453eb23137585dbf1e28": {
          "model_module": "@jupyter-widgets/controls",
          "model_name": "DescriptionStyleModel",
          "model_module_version": "1.5.0",
          "state": {
            "_model_module": "@jupyter-widgets/controls",
            "_model_module_version": "1.5.0",
            "_model_name": "DescriptionStyleModel",
            "_view_count": null,
            "_view_module": "@jupyter-widgets/base",
            "_view_module_version": "1.2.0",
            "_view_name": "StyleView",
            "description_width": ""
          }
        }
      }
    }
  },
  "nbformat": 4,
  "nbformat_minor": 5
}